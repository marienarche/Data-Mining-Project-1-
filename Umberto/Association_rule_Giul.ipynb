{
 "cells": [
  {
   "cell_type": "code",
   "execution_count": 90,
   "metadata": {},
   "outputs": [],
   "source": [
    "import pandas as pd\n",
    "from mlxtend.frequent_patterns import apriori\n",
    "from mlxtend.frequent_patterns import association_rules\n",
    "import matplotlib.pyplot as plt\n",
    "import numpy as np\n",
    "\n",
    "%matplotlib inline"
   ]
  },
  {
   "cell_type": "code",
   "execution_count": 91,
   "metadata": {},
   "outputs": [],
   "source": [
    "df = pd.read_csv('/Users/gaetanoantonicchio/Desktop/UNIVERSITY OF PISA - DATA SCIENCE/Data Mining - 1/DATAMINING_PROJECT/assocrule_df.csv')"
   ]
  },
  {
   "cell_type": "code",
   "execution_count": 92,
   "metadata": {},
   "outputs": [
    {
     "data": {
      "text/html": [
       "<div>\n",
       "<style scoped>\n",
       "    .dataframe tbody tr th:only-of-type {\n",
       "        vertical-align: middle;\n",
       "    }\n",
       "\n",
       "    .dataframe tbody tr th {\n",
       "        vertical-align: top;\n",
       "    }\n",
       "\n",
       "    .dataframe thead th {\n",
       "        text-align: right;\n",
       "    }\n",
       "</style>\n",
       "<table border=\"1\" class=\"dataframe\">\n",
       "  <thead>\n",
       "    <tr style=\"text-align: right;\">\n",
       "      <th></th>\n",
       "      <th>Age</th>\n",
       "      <th>Attrition</th>\n",
       "      <th>BusinessTravel</th>\n",
       "      <th>DailyRate</th>\n",
       "      <th>Department</th>\n",
       "      <th>DistanceFromHome</th>\n",
       "      <th>Education</th>\n",
       "      <th>EducationField</th>\n",
       "      <th>EnvironmentSatisfaction</th>\n",
       "      <th>Gender</th>\n",
       "      <th>...</th>\n",
       "      <th>PercentSalaryHike</th>\n",
       "      <th>RelationshipSatisfaction</th>\n",
       "      <th>StockOptionLevel</th>\n",
       "      <th>TotalWorkingYears</th>\n",
       "      <th>TrainingTimesLastYear</th>\n",
       "      <th>WorkLifeBalance</th>\n",
       "      <th>YearsAtCompany</th>\n",
       "      <th>YearsInCurrentRole</th>\n",
       "      <th>YearsSinceLastPromotion</th>\n",
       "      <th>YearsWithCurrManager</th>\n",
       "    </tr>\n",
       "  </thead>\n",
       "  <tbody>\n",
       "    <tr>\n",
       "      <td>0</td>\n",
       "      <td>31</td>\n",
       "      <td>No</td>\n",
       "      <td>Travel_Rarely</td>\n",
       "      <td>1380</td>\n",
       "      <td>Research &amp; Development</td>\n",
       "      <td>9</td>\n",
       "      <td>2</td>\n",
       "      <td>Life Sciences</td>\n",
       "      <td>3</td>\n",
       "      <td>Female</td>\n",
       "      <td>...</td>\n",
       "      <td>12</td>\n",
       "      <td>3</td>\n",
       "      <td>0</td>\n",
       "      <td>2</td>\n",
       "      <td>3</td>\n",
       "      <td>3</td>\n",
       "      <td>2</td>\n",
       "      <td>2</td>\n",
       "      <td>2</td>\n",
       "      <td>1</td>\n",
       "    </tr>\n",
       "    <tr>\n",
       "      <td>1</td>\n",
       "      <td>20</td>\n",
       "      <td>No</td>\n",
       "      <td>Travel_Frequently</td>\n",
       "      <td>1240</td>\n",
       "      <td>Research &amp; Development</td>\n",
       "      <td>2</td>\n",
       "      <td>4</td>\n",
       "      <td>Life Sciences</td>\n",
       "      <td>4</td>\n",
       "      <td>Female</td>\n",
       "      <td>...</td>\n",
       "      <td>13</td>\n",
       "      <td>4</td>\n",
       "      <td>1</td>\n",
       "      <td>1</td>\n",
       "      <td>3</td>\n",
       "      <td>3</td>\n",
       "      <td>1</td>\n",
       "      <td>0</td>\n",
       "      <td>0</td>\n",
       "      <td>0</td>\n",
       "    </tr>\n",
       "    <tr>\n",
       "      <td>2</td>\n",
       "      <td>37</td>\n",
       "      <td>No</td>\n",
       "      <td>Travel_Rarely</td>\n",
       "      <td>916</td>\n",
       "      <td>Research &amp; Development</td>\n",
       "      <td>17</td>\n",
       "      <td>2</td>\n",
       "      <td>Life Sciences</td>\n",
       "      <td>4</td>\n",
       "      <td>Male</td>\n",
       "      <td>...</td>\n",
       "      <td>13</td>\n",
       "      <td>3</td>\n",
       "      <td>0</td>\n",
       "      <td>10</td>\n",
       "      <td>2</td>\n",
       "      <td>3</td>\n",
       "      <td>3</td>\n",
       "      <td>2</td>\n",
       "      <td>0</td>\n",
       "      <td>2</td>\n",
       "    </tr>\n",
       "    <tr>\n",
       "      <td>3</td>\n",
       "      <td>39</td>\n",
       "      <td>No</td>\n",
       "      <td>Travel_Rarely</td>\n",
       "      <td>1354</td>\n",
       "      <td>Research &amp; Development</td>\n",
       "      <td>5</td>\n",
       "      <td>3</td>\n",
       "      <td>Medical</td>\n",
       "      <td>3</td>\n",
       "      <td>Male</td>\n",
       "      <td>...</td>\n",
       "      <td>12</td>\n",
       "      <td>4</td>\n",
       "      <td>0</td>\n",
       "      <td>14</td>\n",
       "      <td>3</td>\n",
       "      <td>3</td>\n",
       "      <td>10</td>\n",
       "      <td>10</td>\n",
       "      <td>5</td>\n",
       "      <td>8</td>\n",
       "    </tr>\n",
       "    <tr>\n",
       "      <td>4</td>\n",
       "      <td>35</td>\n",
       "      <td>No</td>\n",
       "      <td>Travel_Rarely</td>\n",
       "      <td>1333</td>\n",
       "      <td>Research &amp; Development</td>\n",
       "      <td>1</td>\n",
       "      <td>3</td>\n",
       "      <td>Technical Degree</td>\n",
       "      <td>4</td>\n",
       "      <td>Male</td>\n",
       "      <td>...</td>\n",
       "      <td>13</td>\n",
       "      <td>2</td>\n",
       "      <td>1</td>\n",
       "      <td>15</td>\n",
       "      <td>3</td>\n",
       "      <td>3</td>\n",
       "      <td>13</td>\n",
       "      <td>12</td>\n",
       "      <td>5</td>\n",
       "      <td>11</td>\n",
       "    </tr>\n",
       "  </tbody>\n",
       "</table>\n",
       "<p>5 rows × 30 columns</p>\n",
       "</div>"
      ],
      "text/plain": [
       "   Age Attrition     BusinessTravel  DailyRate              Department  \\\n",
       "0   31        No      Travel_Rarely       1380  Research & Development   \n",
       "1   20        No  Travel_Frequently       1240  Research & Development   \n",
       "2   37        No      Travel_Rarely        916  Research & Development   \n",
       "3   39        No      Travel_Rarely       1354  Research & Development   \n",
       "4   35        No      Travel_Rarely       1333  Research & Development   \n",
       "\n",
       "   DistanceFromHome  Education    EducationField  EnvironmentSatisfaction  \\\n",
       "0                 9          2     Life Sciences                        3   \n",
       "1                 2          4     Life Sciences                        4   \n",
       "2                17          2     Life Sciences                        4   \n",
       "3                 5          3           Medical                        3   \n",
       "4                 1          3  Technical Degree                        4   \n",
       "\n",
       "   Gender  ...  PercentSalaryHike  RelationshipSatisfaction  StockOptionLevel  \\\n",
       "0  Female  ...                 12                         3                 0   \n",
       "1  Female  ...                 13                         4                 1   \n",
       "2    Male  ...                 13                         3                 0   \n",
       "3    Male  ...                 12                         4                 0   \n",
       "4    Male  ...                 13                         2                 1   \n",
       "\n",
       "  TotalWorkingYears  TrainingTimesLastYear WorkLifeBalance  YearsAtCompany  \\\n",
       "0                 2                      3               3               2   \n",
       "1                 1                      3               3               1   \n",
       "2                10                      2               3               3   \n",
       "3                14                      3               3              10   \n",
       "4                15                      3               3              13   \n",
       "\n",
       "   YearsInCurrentRole  YearsSinceLastPromotion YearsWithCurrManager  \n",
       "0                   2                        2                    1  \n",
       "1                   0                        0                    0  \n",
       "2                   2                        0                    2  \n",
       "3                  10                        5                    8  \n",
       "4                  12                        5                   11  \n",
       "\n",
       "[5 rows x 30 columns]"
      ]
     },
     "execution_count": 92,
     "metadata": {},
     "output_type": "execute_result"
    }
   ],
   "source": [
    "df.head()"
   ]
  },
  {
   "cell_type": "code",
   "execution_count": 93,
   "metadata": {},
   "outputs": [
    {
     "data": {
      "text/plain": [
       "Age                           int64\n",
       "Attrition                    object\n",
       "BusinessTravel               object\n",
       "DailyRate                     int64\n",
       "Department                   object\n",
       "DistanceFromHome              int64\n",
       "Education                     int64\n",
       "EducationField               object\n",
       "EnvironmentSatisfaction       int64\n",
       "Gender                       object\n",
       "HourlyRate                    int64\n",
       "JobInvolvement                int64\n",
       "JobLevel                      int64\n",
       "JobRole                      object\n",
       "JobSatisfaction               int64\n",
       "MaritalStatus                object\n",
       "MonthlyIncome               float64\n",
       "MonthlyRate                   int64\n",
       "NumCompaniesWorked            int64\n",
       "OverTime                     object\n",
       "PercentSalaryHike             int64\n",
       "RelationshipSatisfaction      int64\n",
       "StockOptionLevel              int64\n",
       "TotalWorkingYears             int64\n",
       "TrainingTimesLastYear         int64\n",
       "WorkLifeBalance               int64\n",
       "YearsAtCompany                int64\n",
       "YearsInCurrentRole            int64\n",
       "YearsSinceLastPromotion       int64\n",
       "YearsWithCurrManager          int64\n",
       "dtype: object"
      ]
     },
     "execution_count": 93,
     "metadata": {},
     "output_type": "execute_result"
    }
   ],
   "source": [
    "df.dtypes"
   ]
  },
  {
   "cell_type": "code",
   "execution_count": 94,
   "metadata": {},
   "outputs": [],
   "source": [
    "categories = ['Attrition','BusinessTravel','Education','EducationField','WorkLifeBalance','Gender','JobRole','MaritalStatus','Department']\n",
    "not_cat = ['MonthlyIncome','Age','TotalWorkingYears']"
   ]
  },
  {
   "cell_type": "code",
   "execution_count": 95,
   "metadata": {},
   "outputs": [
    {
     "data": {
      "text/plain": [
       "<matplotlib.axes._subplots.AxesSubplot at 0x7fd221c04990>"
      ]
     },
     "execution_count": 95,
     "metadata": {},
     "output_type": "execute_result"
    },
    {
     "data": {
      "image/png": "[encoded data removed]",
      "text/plain": [
       "<Figure size 432x288 with 1 Axes>"
      ]
     },
     "metadata": {
      "needs_background": "light"
     },
     "output_type": "display_data"
    }
   ],
   "source": [
    "x = plt.xlim((17, 70))\n",
    "plt.title('Age')\n",
    "df[\"Age\"].plot.kde(x = 'x', color = 'black')"
   ]
  },
  {
   "cell_type": "code",
   "execution_count": 96,
   "metadata": {},
   "outputs": [
    {
     "data": {
      "text/plain": [
       "<matplotlib.axes._subplots.AxesSubplot at 0x7fd221c31590>"
      ]
     },
     "execution_count": 96,
     "metadata": {},
     "output_type": "execute_result"
    },
    {
     "data": {
      "image/png": "[encoded data removed]",
      "text/plain": [
       "<Figure size 432x288 with 1 Axes>"
      ]
     },
     "metadata": {
      "needs_background": "light"
     },
     "output_type": "display_data"
    }
   ],
   "source": [
    "x = plt.xlim((0, 20000))\n",
    "plt.title('MonthlyIncome')\n",
    "df[\"MonthlyIncome\"].plot.kde(x = 'x', color = 'black')"
   ]
  },
  {
   "cell_type": "code",
   "execution_count": 97,
   "metadata": {},
   "outputs": [
    {
     "data": {
      "text/plain": [
       "<matplotlib.axes._subplots.AxesSubplot at 0x7fd31920f5d0>"
      ]
     },
     "execution_count": 97,
     "metadata": {},
     "output_type": "execute_result"
    },
    {
     "data": {
      "image/png": "[encoded data removed]",
      "text/plain": [
       "<Figure size 432x288 with 1 Axes>"
      ]
     },
     "metadata": {
      "needs_background": "light"
     },
     "output_type": "display_data"
    }
   ],
   "source": [
    "x = plt.xlim((0, 50))\n",
    "plt.title('YearsAtCompany')\n",
    "df[\"YearsAtCompany\"].plot.kde(x = 'x', color = 'black')"
   ]
  },
  {
   "cell_type": "code",
   "execution_count": 98,
   "metadata": {},
   "outputs": [
    {
     "data": {
      "text/plain": [
       "<matplotlib.axes._subplots.AxesSubplot at 0x7fd319c67590>"
      ]
     },
     "execution_count": 98,
     "metadata": {},
     "output_type": "execute_result"
    },
    {
     "data": {
      "image/png": "[encoded data removed]",
      "text/plain": [
       "<Figure size 432x288 with 1 Axes>"
      ]
     },
     "metadata": {
      "needs_background": "light"
     },
     "output_type": "display_data"
    }
   ],
   "source": [
    "x = plt.xlim((0, 50))\n",
    "plt.title('DistanceFromHome')\n",
    "df[\"DistanceFromHome\"].plot.kde(x = 'x', color = 'black')"
   ]
  },
  {
   "cell_type": "code",
   "execution_count": 99,
   "metadata": {},
   "outputs": [
    {
     "data": {
      "text/plain": [
       "1     62\n",
       "2     60\n",
       "3     26\n",
       "8     26\n",
       "5     25\n",
       "10    24\n",
       "9     22\n",
       "4     22\n",
       "7     21\n",
       "6     12\n",
       "11    11\n",
       "19    10\n",
       "24    10\n",
       "28     9\n",
       "18     9\n",
       "20     8\n",
       "13     7\n",
       "21     7\n",
       "17     6\n",
       "14     5\n",
       "27     5\n",
       "26     5\n",
       "29     4\n",
       "16     4\n",
       "15     4\n",
       "25     3\n",
       "12     2\n",
       "22     2\n",
       "23     1\n",
       "Name: DistanceFromHome, dtype: int64"
      ]
     },
     "execution_count": 99,
     "metadata": {},
     "output_type": "execute_result"
    }
   ],
   "source": [
    "df['DistanceFromHome'].value_counts()"
   ]
  },
  {
   "cell_type": "code",
   "execution_count": 100,
   "metadata": {},
   "outputs": [
    {
     "data": {
      "text/plain": [
       "count    412.000000\n",
       "mean       5.708738\n",
       "std        3.818590\n",
       "min        0.000000\n",
       "25%        3.000000\n",
       "50%        5.000000\n",
       "75%        8.000000\n",
       "max       22.000000\n",
       "Name: YearsAtCompany, dtype: float64"
      ]
     },
     "execution_count": 100,
     "metadata": {},
     "output_type": "execute_result"
    }
   ],
   "source": [
    "df['YearsAtCompany'].describe()"
   ]
  },
  {
   "cell_type": "code",
   "execution_count": 101,
   "metadata": {},
   "outputs": [],
   "source": [
    "df = df[['Attrition','BusinessTravel','DistanceFromHome','Education','EducationField','Gender','JobRole','MaritalStatus','Department','MonthlyIncome','Age','WorkLifeBalance','YearsAtCompany']]"
   ]
  },
  {
   "cell_type": "code",
   "execution_count": 102,
   "metadata": {},
   "outputs": [
    {
     "data": {
      "text/html": [
       "<div>\n",
       "<style scoped>\n",
       "    .dataframe tbody tr th:only-of-type {\n",
       "        vertical-align: middle;\n",
       "    }\n",
       "\n",
       "    .dataframe tbody tr th {\n",
       "        vertical-align: top;\n",
       "    }\n",
       "\n",
       "    .dataframe thead th {\n",
       "        text-align: right;\n",
       "    }\n",
       "</style>\n",
       "<table border=\"1\" class=\"dataframe\">\n",
       "  <thead>\n",
       "    <tr style=\"text-align: right;\">\n",
       "      <th></th>\n",
       "      <th>Attrition</th>\n",
       "      <th>BusinessTravel</th>\n",
       "      <th>DistanceFromHome</th>\n",
       "      <th>Education</th>\n",
       "      <th>EducationField</th>\n",
       "      <th>Gender</th>\n",
       "      <th>JobRole</th>\n",
       "      <th>MaritalStatus</th>\n",
       "      <th>Department</th>\n",
       "      <th>MonthlyIncome</th>\n",
       "      <th>Age</th>\n",
       "      <th>WorkLifeBalance</th>\n",
       "      <th>YearsAtCompany</th>\n",
       "    </tr>\n",
       "  </thead>\n",
       "  <tbody>\n",
       "    <tr>\n",
       "      <td>0</td>\n",
       "      <td>No</td>\n",
       "      <td>Travel_Rarely</td>\n",
       "      <td>9</td>\n",
       "      <td>2</td>\n",
       "      <td>Life Sciences</td>\n",
       "      <td>Female</td>\n",
       "      <td>Laboratory Technician</td>\n",
       "      <td>Single</td>\n",
       "      <td>Research &amp; Development</td>\n",
       "      <td>7978.000000</td>\n",
       "      <td>31</td>\n",
       "      <td>3</td>\n",
       "      <td>2</td>\n",
       "    </tr>\n",
       "    <tr>\n",
       "      <td>1</td>\n",
       "      <td>No</td>\n",
       "      <td>Travel_Frequently</td>\n",
       "      <td>2</td>\n",
       "      <td>4</td>\n",
       "      <td>Life Sciences</td>\n",
       "      <td>Female</td>\n",
       "      <td>Laboratory Technician</td>\n",
       "      <td>Divorced</td>\n",
       "      <td>Research &amp; Development</td>\n",
       "      <td>2323.000000</td>\n",
       "      <td>20</td>\n",
       "      <td>3</td>\n",
       "      <td>1</td>\n",
       "    </tr>\n",
       "    <tr>\n",
       "      <td>2</td>\n",
       "      <td>No</td>\n",
       "      <td>Travel_Rarely</td>\n",
       "      <td>17</td>\n",
       "      <td>2</td>\n",
       "      <td>Life Sciences</td>\n",
       "      <td>Male</td>\n",
       "      <td>Research Scientist</td>\n",
       "      <td>Single</td>\n",
       "      <td>Research &amp; Development</td>\n",
       "      <td>3375.000000</td>\n",
       "      <td>37</td>\n",
       "      <td>3</td>\n",
       "      <td>3</td>\n",
       "    </tr>\n",
       "    <tr>\n",
       "      <td>3</td>\n",
       "      <td>No</td>\n",
       "      <td>Travel_Rarely</td>\n",
       "      <td>5</td>\n",
       "      <td>3</td>\n",
       "      <td>Medical</td>\n",
       "      <td>Male</td>\n",
       "      <td>Manager</td>\n",
       "      <td>Single</td>\n",
       "      <td>Research &amp; Development</td>\n",
       "      <td>3069.000000</td>\n",
       "      <td>39</td>\n",
       "      <td>3</td>\n",
       "      <td>10</td>\n",
       "    </tr>\n",
       "    <tr>\n",
       "      <td>4</td>\n",
       "      <td>No</td>\n",
       "      <td>Travel_Rarely</td>\n",
       "      <td>1</td>\n",
       "      <td>3</td>\n",
       "      <td>Technical Degree</td>\n",
       "      <td>Male</td>\n",
       "      <td>Research Director</td>\n",
       "      <td>Married</td>\n",
       "      <td>Research &amp; Development</td>\n",
       "      <td>8264.307692</td>\n",
       "      <td>35</td>\n",
       "      <td>3</td>\n",
       "      <td>13</td>\n",
       "    </tr>\n",
       "  </tbody>\n",
       "</table>\n",
       "</div>"
      ],
      "text/plain": [
       "  Attrition     BusinessTravel  DistanceFromHome  Education    EducationField  \\\n",
       "0        No      Travel_Rarely                 9          2     Life Sciences   \n",
       "1        No  Travel_Frequently                 2          4     Life Sciences   \n",
       "2        No      Travel_Rarely                17          2     Life Sciences   \n",
       "3        No      Travel_Rarely                 5          3           Medical   \n",
       "4        No      Travel_Rarely                 1          3  Technical Degree   \n",
       "\n",
       "   Gender                JobRole MaritalStatus              Department  \\\n",
       "0  Female  Laboratory Technician        Single  Research & Development   \n",
       "1  Female  Laboratory Technician      Divorced  Research & Development   \n",
       "2    Male     Research Scientist        Single  Research & Development   \n",
       "3    Male                Manager        Single  Research & Development   \n",
       "4    Male      Research Director       Married  Research & Development   \n",
       "\n",
       "   MonthlyIncome  Age  WorkLifeBalance  YearsAtCompany  \n",
       "0    7978.000000   31                3               2  \n",
       "1    2323.000000   20                3               1  \n",
       "2    3375.000000   37                3               3  \n",
       "3    3069.000000   39                3              10  \n",
       "4    8264.307692   35                3              13  "
      ]
     },
     "execution_count": 102,
     "metadata": {},
     "output_type": "execute_result"
    }
   ],
   "source": [
    "df.head()"
   ]
  },
  {
   "cell_type": "code",
   "execution_count": 103,
   "metadata": {},
   "outputs": [],
   "source": [
    "df['DistanceFromHome'] = pd.cut(df['DistanceFromHome'], [0, 10, 20, 30], right=False)"
   ]
  },
  {
   "cell_type": "code",
   "execution_count": 104,
   "metadata": {},
   "outputs": [],
   "source": [
    "df['Age'] = pd.cut(df['Age'], [18, 30, 40, 50, 60], right=False)"
   ]
  },
  {
   "cell_type": "code",
   "execution_count": 105,
   "metadata": {},
   "outputs": [],
   "source": [
    "df['MonthlyIncome'] = pd.cut(df['MonthlyIncome'], [0, 2500, 5000, 7500, 10000, 12500, 17500 ], right=False)"
   ]
  },
  {
   "cell_type": "code",
   "execution_count": 106,
   "metadata": {},
   "outputs": [],
   "source": [
    "df['YearsAtCompany'] = pd.cut(df['YearsAtCompany'], [0, 5, 10, 15, 30], right=False)"
   ]
  },
  {
   "cell_type": "code",
   "execution_count": 107,
   "metadata": {},
   "outputs": [
    {
     "data": {
      "text/plain": [
       "3    149\n",
       "4    112\n",
       "2     94\n",
       "1     45\n",
       "5     12\n",
       "Name: Education, dtype: int64"
      ]
     },
     "execution_count": 107,
     "metadata": {},
     "output_type": "execute_result"
    }
   ],
   "source": [
    "df['Education'].value_counts()"
   ]
  },
  {
   "cell_type": "code",
   "execution_count": null,
   "metadata": {},
   "outputs": [],
   "source": []
  },
  {
   "cell_type": "code",
   "execution_count": 108,
   "metadata": {},
   "outputs": [
    {
     "data": {
      "text/plain": [
       "3    250\n",
       "2     94\n",
       "4     40\n",
       "1     28\n",
       "Name: WorkLifeBalance, dtype: int64"
      ]
     },
     "execution_count": 108,
     "metadata": {},
     "output_type": "execute_result"
    }
   ],
   "source": [
    "df['WorkLifeBalance'].value_counts()"
   ]
  },
  {
   "cell_type": "code",
   "execution_count": 109,
   "metadata": {},
   "outputs": [],
   "source": [
    "dict = {1:'below college', 2:'college', 3:'bachelor', 4:'master', 5:'PhD'}\n",
    "dict_1 = {1:'low', 2:'medium', 3:'high', 4:'very high'}\n",
    "\n",
    "df = df.replace({\"Education\": dict}) \n",
    "df = df.replace({\"WorkLifeBalance\": dict_1}) \n",
    "\n"
   ]
  },
  {
   "cell_type": "code",
   "execution_count": 110,
   "metadata": {},
   "outputs": [
    {
     "data": {
      "text/html": [
       "<div>\n",
       "<style scoped>\n",
       "    .dataframe tbody tr th:only-of-type {\n",
       "        vertical-align: middle;\n",
       "    }\n",
       "\n",
       "    .dataframe tbody tr th {\n",
       "        vertical-align: top;\n",
       "    }\n",
       "\n",
       "    .dataframe thead th {\n",
       "        text-align: right;\n",
       "    }\n",
       "</style>\n",
       "<table border=\"1\" class=\"dataframe\">\n",
       "  <thead>\n",
       "    <tr style=\"text-align: right;\">\n",
       "      <th></th>\n",
       "      <th>Attrition</th>\n",
       "      <th>BusinessTravel</th>\n",
       "      <th>DistanceFromHome</th>\n",
       "      <th>Education</th>\n",
       "      <th>EducationField</th>\n",
       "      <th>Gender</th>\n",
       "      <th>JobRole</th>\n",
       "      <th>MaritalStatus</th>\n",
       "      <th>Department</th>\n",
       "      <th>MonthlyIncome</th>\n",
       "      <th>Age</th>\n",
       "      <th>WorkLifeBalance</th>\n",
       "      <th>YearsAtCompany</th>\n",
       "    </tr>\n",
       "  </thead>\n",
       "  <tbody>\n",
       "    <tr>\n",
       "      <td>0</td>\n",
       "      <td>No</td>\n",
       "      <td>Travel_Rarely</td>\n",
       "      <td>[0, 10)</td>\n",
       "      <td>college</td>\n",
       "      <td>Life Sciences</td>\n",
       "      <td>Female</td>\n",
       "      <td>Laboratory Technician</td>\n",
       "      <td>Single</td>\n",
       "      <td>Research &amp; Development</td>\n",
       "      <td>[7500, 10000)</td>\n",
       "      <td>[30, 40)</td>\n",
       "      <td>high</td>\n",
       "      <td>[0, 5)</td>\n",
       "    </tr>\n",
       "    <tr>\n",
       "      <td>1</td>\n",
       "      <td>No</td>\n",
       "      <td>Travel_Frequently</td>\n",
       "      <td>[0, 10)</td>\n",
       "      <td>master</td>\n",
       "      <td>Life Sciences</td>\n",
       "      <td>Female</td>\n",
       "      <td>Laboratory Technician</td>\n",
       "      <td>Divorced</td>\n",
       "      <td>Research &amp; Development</td>\n",
       "      <td>[0, 2500)</td>\n",
       "      <td>[18, 30)</td>\n",
       "      <td>high</td>\n",
       "      <td>[0, 5)</td>\n",
       "    </tr>\n",
       "    <tr>\n",
       "      <td>2</td>\n",
       "      <td>No</td>\n",
       "      <td>Travel_Rarely</td>\n",
       "      <td>[10, 20)</td>\n",
       "      <td>college</td>\n",
       "      <td>Life Sciences</td>\n",
       "      <td>Male</td>\n",
       "      <td>Research Scientist</td>\n",
       "      <td>Single</td>\n",
       "      <td>Research &amp; Development</td>\n",
       "      <td>[2500, 5000)</td>\n",
       "      <td>[30, 40)</td>\n",
       "      <td>high</td>\n",
       "      <td>[0, 5)</td>\n",
       "    </tr>\n",
       "    <tr>\n",
       "      <td>3</td>\n",
       "      <td>No</td>\n",
       "      <td>Travel_Rarely</td>\n",
       "      <td>[0, 10)</td>\n",
       "      <td>bachelor</td>\n",
       "      <td>Medical</td>\n",
       "      <td>Male</td>\n",
       "      <td>Manager</td>\n",
       "      <td>Single</td>\n",
       "      <td>Research &amp; Development</td>\n",
       "      <td>[2500, 5000)</td>\n",
       "      <td>[30, 40)</td>\n",
       "      <td>high</td>\n",
       "      <td>[10, 15)</td>\n",
       "    </tr>\n",
       "    <tr>\n",
       "      <td>4</td>\n",
       "      <td>No</td>\n",
       "      <td>Travel_Rarely</td>\n",
       "      <td>[0, 10)</td>\n",
       "      <td>bachelor</td>\n",
       "      <td>Technical Degree</td>\n",
       "      <td>Male</td>\n",
       "      <td>Research Director</td>\n",
       "      <td>Married</td>\n",
       "      <td>Research &amp; Development</td>\n",
       "      <td>[7500, 10000)</td>\n",
       "      <td>[30, 40)</td>\n",
       "      <td>high</td>\n",
       "      <td>[10, 15)</td>\n",
       "    </tr>\n",
       "  </tbody>\n",
       "</table>\n",
       "</div>"
      ],
      "text/plain": [
       "  Attrition     BusinessTravel DistanceFromHome Education    EducationField  \\\n",
       "0        No      Travel_Rarely          [0, 10)   college     Life Sciences   \n",
       "1        No  Travel_Frequently          [0, 10)    master     Life Sciences   \n",
       "2        No      Travel_Rarely         [10, 20)   college     Life Sciences   \n",
       "3        No      Travel_Rarely          [0, 10)  bachelor           Medical   \n",
       "4        No      Travel_Rarely          [0, 10)  bachelor  Technical Degree   \n",
       "\n",
       "   Gender                JobRole MaritalStatus              Department  \\\n",
       "0  Female  Laboratory Technician        Single  Research & Development   \n",
       "1  Female  Laboratory Technician      Divorced  Research & Development   \n",
       "2    Male     Research Scientist        Single  Research & Development   \n",
       "3    Male                Manager        Single  Research & Development   \n",
       "4    Male      Research Director       Married  Research & Development   \n",
       "\n",
       "   MonthlyIncome       Age WorkLifeBalance YearsAtCompany  \n",
       "0  [7500, 10000)  [30, 40)            high         [0, 5)  \n",
       "1      [0, 2500)  [18, 30)            high         [0, 5)  \n",
       "2   [2500, 5000)  [30, 40)            high         [0, 5)  \n",
       "3   [2500, 5000)  [30, 40)            high       [10, 15)  \n",
       "4  [7500, 10000)  [30, 40)            high       [10, 15)  "
      ]
     },
     "execution_count": 110,
     "metadata": {},
     "output_type": "execute_result"
    }
   ],
   "source": [
    "df.head()"
   ]
  },
  {
   "cell_type": "code",
   "execution_count": 111,
   "metadata": {},
   "outputs": [],
   "source": [
    "df['Age'] = 'Age:' + df['Age'].astype(str)\n",
    "df['MonthlyIncome'] = 'MonthlyIncome:' + df['MonthlyIncome'].astype(str)\n",
    "df['YearsAtCompany'] = 'YAC:' + df['YearsAtCompany'].astype(str)\n",
    "df['Attrition'] = 'Attrition:' + df['Attrition'].astype(str)\n",
    "df['WorkLifeBalance'] = 'WLB:' + df['WorkLifeBalance']\n",
    "df['DistanceFromHome'] = 'DFH:' + df['DistanceFromHome'].astype(str)\n",
    "\n",
    "\n",
    "\n"
   ]
  },
  {
   "cell_type": "code",
   "execution_count": 112,
   "metadata": {},
   "outputs": [
    {
     "data": {
      "text/html": [
       "<div>\n",
       "<style scoped>\n",
       "    .dataframe tbody tr th:only-of-type {\n",
       "        vertical-align: middle;\n",
       "    }\n",
       "\n",
       "    .dataframe tbody tr th {\n",
       "        vertical-align: top;\n",
       "    }\n",
       "\n",
       "    .dataframe thead th {\n",
       "        text-align: right;\n",
       "    }\n",
       "</style>\n",
       "<table border=\"1\" class=\"dataframe\">\n",
       "  <thead>\n",
       "    <tr style=\"text-align: right;\">\n",
       "      <th></th>\n",
       "      <th>Attrition</th>\n",
       "      <th>BusinessTravel</th>\n",
       "      <th>DistanceFromHome</th>\n",
       "      <th>Education</th>\n",
       "      <th>EducationField</th>\n",
       "      <th>Gender</th>\n",
       "      <th>JobRole</th>\n",
       "      <th>MaritalStatus</th>\n",
       "      <th>Department</th>\n",
       "      <th>MonthlyIncome</th>\n",
       "      <th>Age</th>\n",
       "      <th>WorkLifeBalance</th>\n",
       "      <th>YearsAtCompany</th>\n",
       "    </tr>\n",
       "  </thead>\n",
       "  <tbody>\n",
       "    <tr>\n",
       "      <td>0</td>\n",
       "      <td>Attrition:No</td>\n",
       "      <td>Travel_Rarely</td>\n",
       "      <td>DFH:[0, 10)</td>\n",
       "      <td>college</td>\n",
       "      <td>Life Sciences</td>\n",
       "      <td>Female</td>\n",
       "      <td>Laboratory Technician</td>\n",
       "      <td>Single</td>\n",
       "      <td>Research &amp; Development</td>\n",
       "      <td>MonthlyIncome:[7500, 10000)</td>\n",
       "      <td>Age:[30.0, 40.0)</td>\n",
       "      <td>WLB:high</td>\n",
       "      <td>YAC:[0, 5)</td>\n",
       "    </tr>\n",
       "    <tr>\n",
       "      <td>1</td>\n",
       "      <td>Attrition:No</td>\n",
       "      <td>Travel_Frequently</td>\n",
       "      <td>DFH:[0, 10)</td>\n",
       "      <td>master</td>\n",
       "      <td>Life Sciences</td>\n",
       "      <td>Female</td>\n",
       "      <td>Laboratory Technician</td>\n",
       "      <td>Divorced</td>\n",
       "      <td>Research &amp; Development</td>\n",
       "      <td>MonthlyIncome:[0, 2500)</td>\n",
       "      <td>Age:[18.0, 30.0)</td>\n",
       "      <td>WLB:high</td>\n",
       "      <td>YAC:[0, 5)</td>\n",
       "    </tr>\n",
       "    <tr>\n",
       "      <td>2</td>\n",
       "      <td>Attrition:No</td>\n",
       "      <td>Travel_Rarely</td>\n",
       "      <td>DFH:[10, 20)</td>\n",
       "      <td>college</td>\n",
       "      <td>Life Sciences</td>\n",
       "      <td>Male</td>\n",
       "      <td>Research Scientist</td>\n",
       "      <td>Single</td>\n",
       "      <td>Research &amp; Development</td>\n",
       "      <td>MonthlyIncome:[2500, 5000)</td>\n",
       "      <td>Age:[30.0, 40.0)</td>\n",
       "      <td>WLB:high</td>\n",
       "      <td>YAC:[0, 5)</td>\n",
       "    </tr>\n",
       "    <tr>\n",
       "      <td>3</td>\n",
       "      <td>Attrition:No</td>\n",
       "      <td>Travel_Rarely</td>\n",
       "      <td>DFH:[0, 10)</td>\n",
       "      <td>bachelor</td>\n",
       "      <td>Medical</td>\n",
       "      <td>Male</td>\n",
       "      <td>Manager</td>\n",
       "      <td>Single</td>\n",
       "      <td>Research &amp; Development</td>\n",
       "      <td>MonthlyIncome:[2500, 5000)</td>\n",
       "      <td>Age:[30.0, 40.0)</td>\n",
       "      <td>WLB:high</td>\n",
       "      <td>YAC:[10, 15)</td>\n",
       "    </tr>\n",
       "    <tr>\n",
       "      <td>4</td>\n",
       "      <td>Attrition:No</td>\n",
       "      <td>Travel_Rarely</td>\n",
       "      <td>DFH:[0, 10)</td>\n",
       "      <td>bachelor</td>\n",
       "      <td>Technical Degree</td>\n",
       "      <td>Male</td>\n",
       "      <td>Research Director</td>\n",
       "      <td>Married</td>\n",
       "      <td>Research &amp; Development</td>\n",
       "      <td>MonthlyIncome:[7500, 10000)</td>\n",
       "      <td>Age:[30.0, 40.0)</td>\n",
       "      <td>WLB:high</td>\n",
       "      <td>YAC:[10, 15)</td>\n",
       "    </tr>\n",
       "  </tbody>\n",
       "</table>\n",
       "</div>"
      ],
      "text/plain": [
       "      Attrition     BusinessTravel DistanceFromHome Education  \\\n",
       "0  Attrition:No      Travel_Rarely      DFH:[0, 10)   college   \n",
       "1  Attrition:No  Travel_Frequently      DFH:[0, 10)    master   \n",
       "2  Attrition:No      Travel_Rarely     DFH:[10, 20)   college   \n",
       "3  Attrition:No      Travel_Rarely      DFH:[0, 10)  bachelor   \n",
       "4  Attrition:No      Travel_Rarely      DFH:[0, 10)  bachelor   \n",
       "\n",
       "     EducationField  Gender                JobRole MaritalStatus  \\\n",
       "0     Life Sciences  Female  Laboratory Technician        Single   \n",
       "1     Life Sciences  Female  Laboratory Technician      Divorced   \n",
       "2     Life Sciences    Male     Research Scientist        Single   \n",
       "3           Medical    Male                Manager        Single   \n",
       "4  Technical Degree    Male      Research Director       Married   \n",
       "\n",
       "               Department                MonthlyIncome               Age  \\\n",
       "0  Research & Development  MonthlyIncome:[7500, 10000)  Age:[30.0, 40.0)   \n",
       "1  Research & Development      MonthlyIncome:[0, 2500)  Age:[18.0, 30.0)   \n",
       "2  Research & Development   MonthlyIncome:[2500, 5000)  Age:[30.0, 40.0)   \n",
       "3  Research & Development   MonthlyIncome:[2500, 5000)  Age:[30.0, 40.0)   \n",
       "4  Research & Development  MonthlyIncome:[7500, 10000)  Age:[30.0, 40.0)   \n",
       "\n",
       "  WorkLifeBalance YearsAtCompany  \n",
       "0        WLB:high     YAC:[0, 5)  \n",
       "1        WLB:high     YAC:[0, 5)  \n",
       "2        WLB:high     YAC:[0, 5)  \n",
       "3        WLB:high   YAC:[10, 15)  \n",
       "4        WLB:high   YAC:[10, 15)  "
      ]
     },
     "execution_count": 112,
     "metadata": {},
     "output_type": "execute_result"
    }
   ],
   "source": [
    "df.head()"
   ]
  },
  {
   "cell_type": "code",
   "execution_count": 113,
   "metadata": {},
   "outputs": [
    {
     "data": {
      "text/plain": [
       "Series([], dtype: int64)"
      ]
     },
     "execution_count": 113,
     "metadata": {},
     "output_type": "execute_result"
    }
   ],
   "source": [
    "sum_ = df.isnull().sum()\n",
    "sum_[sum_ != 0]"
   ]
  },
  {
   "cell_type": "code",
   "execution_count": 114,
   "metadata": {},
   "outputs": [],
   "source": [
    "from fim import apriori"
   ]
  },
  {
   "cell_type": "code",
   "execution_count": 115,
   "metadata": {},
   "outputs": [
    {
     "name": "stdout",
     "output_type": "stream",
     "text": [
      "Help on built-in function apriori in module fim:\n",
      "\n",
      "apriori(...)\n",
      "    apriori (tracts, target='s', supp=10, zmin=1, zmax=None, report='a',\n",
      "             eval='x', agg='x', thresh=10, prune=None, algo='b', mode='',\n",
      "             border=None)\n",
      "    Find frequent item sets with the Apriori algorithm.\n",
      "    tracts  transaction database to mine (mandatory)\n",
      "            The database must be an iterable of transactions;\n",
      "            each transaction must be an iterable of items;\n",
      "            each item must be a hashable object.\n",
      "            If the database is a dictionary, the transactions are\n",
      "            the keys, the values their (integer) multiplicities.\n",
      "    target  type of frequent item sets to find     (default: s)\n",
      "            s/a   sets/all   all     frequent item sets\n",
      "            c     closed     closed  frequent item sets\n",
      "            m     maximal    maximal frequent item sets\n",
      "            g     gens       generators\n",
      "            r     rules      association rules\n",
      "    supp    minimum support of an item set         (default: 10)\n",
      "            (positive: percentage, negative: absolute number)\n",
      "    conf    minimum confidence of an assoc. rule   (default: 80%)\n",
      "    zmin    minimum number of items per item set   (default: 1)\n",
      "    zmax    maximum number of items per item set   (default: no limit)\n",
      "    report  values to report with an item set      (default: a)\n",
      "            a     absolute item set support (number of transactions)\n",
      "            s     relative item set support as a fraction\n",
      "            S     relative item set support as a percentage\n",
      "            e     value of item set evaluation measure\n",
      "            E     value of item set evaluation measure as a percentage\n",
      "            (     combine values in a tuple (must be first character)\n",
      "            [     combine values in a list  (must be first character)\n",
      "            #     pattern spectrum as a dictionary  (no patterns)\n",
      "            =     pattern spectrum as a list        (no patterns)\n",
      "            |     pattern spectrum as three columns (no patterns)\n",
      "            for target 'r' (association rules) also available:\n",
      "            b     absolute body set  support (number of transactions)\n",
      "            x     relative body set  support as a fraction\n",
      "            X     relative body set  support as a percentage\n",
      "            h     absolute head item support (number of transactions)\n",
      "            y     relative head item support as a fraction\n",
      "            Y     relative head item support as a percentage\n",
      "            c     rule confidence as a fraction\n",
      "            C     rule confidence as a percentage\n",
      "            l     lift value of a rule (confidence/prior)\n",
      "            L     lift value of a rule as a percentage\n",
      "            Q     support of the empty set (total number of transactions)\n",
      "    eval    measure for item set evaluation        (default: x)\n",
      "            x     none       no measure / zero (default)\n",
      "            b     ldratio    binary logarithm of support quotient       (+)\n",
      "            c     conf       rule confidence                            (+)\n",
      "            d     confdiff   absolute confidence difference to prior    (+)\n",
      "            l     lift       lift value (confidence divided by prior)   (+)\n",
      "            a     liftdiff   absolute difference of lift value to 1     (+)\n",
      "            q     liftquot   difference of lift quotient to 1           (+)\n",
      "            v     cvct       conviction (inverse lift negated head)     (+)\n",
      "            e     cvctdiff   absolute difference of conviction to 1     (+)\n",
      "            r     cvctquot   difference of conviction quotient to 1     (+)\n",
      "            k     cprob      conditional probability ratio              (+)\n",
      "            j     import     importance (binary log. of prob. ratio)    (+)\n",
      "            z     cert       certainty factor (relative conf. change)   (+)\n",
      "            n     chi2       normalized chi^2 measure                   (+)\n",
      "            p     chi2pval   p-value f/ (unnormalized) chi^2 measure    (-)\n",
      "            y     yates      normalized chi^2 with Yates' correction    (+)\n",
      "            t     yatespval  p-value f/ Yates-corrected chi^2 measure   (-)\n",
      "            i     info       information difference to prior            (+)\n",
      "            g     infopval   p-value f/ G statistic/info. difference    (-)\n",
      "            f     fetprob    Fisher's exact test (table probability)    (-)\n",
      "            h     fetchi2    Fisher's exact test (chi^2 measure)        (-)\n",
      "            m     fetinfo    Fisher's exact test (mutual information)   (-)\n",
      "            s     fetsupp    Fisher's exact test (support)              (-)\n",
      "            Measures marked with (+) must meet or exceed the threshold,\n",
      "            measures marked with (-) must not exceed the threshold\n",
      "            in order for the item set to be reported.\n",
      "    agg     evaluation measure aggregation mode    (default: x)\n",
      "            x     none       no aggregation (use first value)\n",
      "            m     min        minimum of individual measure values\n",
      "            n     max        maximum of individual measure values\n",
      "            a     avg        average of individual measure values\n",
      "    thresh  threshold for evaluation measure       (default: 10%)\n",
      "    prune   min. size for evaluation filtering     (default: no pruning)\n",
      "            = 0   backward filtering       (no subset check)\n",
      "            < 0   weak   forward filtering (one subset  must qualify)\n",
      "            > 0   strong forward filtering (all subsets must qualify)\n",
      "    algo    algorithm variant to use               (default: a)\n",
      "            b     basic      standard algorithm (only choice)\n",
      "    mode    operation mode indicators/flags        (default: None)\n",
      "            x     do not use perfect extension pruning\n",
      "            t/T   do not organize transactions as a prefix tree\n",
      "            y     a-posteriori pruning of infrequent item sets\n",
      "            z     invalidate evaluation below expected support\n",
      "            o     use original rule support definition (body & head)\n",
      "    border  support border for filtering item sets (default: None)\n",
      "            Must be a list or tuple of (absolute) minimum support values\n",
      "            per item set size (by which the list/tuple is indexed).\n",
      "    appear  dictionary mapping items to item appearance indicators,\n",
      "            with the key None referring to the default item appearance.\n",
      "            (If None does not occur as a key or no dictionary is given,\n",
      "            the default item appearance indicator is 'both'.)\n",
      "            This parameter is only used if the target type is rules.\n",
      "            * item may not appear anywhere in a rule:\n",
      "              '-', 'n', 'none', 'neither', 'ignore'\n",
      "            * item may appear only in rule body/antecedent:\n",
      "              'i', 'in', 'inp', 'input', 'b', 'body',\n",
      "              'a', 'ante', 'antecedent'\n",
      "            * item may appear only in rule head/consequent:\n",
      "              'o', 'out',      'output', 'h', 'head',\n",
      "              'c', 'cons', 'consequent'\n",
      "            * item may appear anywhere in a rule:\n",
      "              'io', 'i&o', 'inout', 'in&out', 'bh', 'b&h', 'both'\n",
      "    returns if report is not in ['#','=','|']:\n",
      "              if the target is association rules:\n",
      "                a list of rules (i.e. tuples with two or more elements),\n",
      "                each consisting of a head/consequent item, a tuple with\n",
      "                a body/antecedent item set, and the values selected by\n",
      "                the parameter 'report', which may be combined into a\n",
      "                tuple or a list if report[0] is '(' or '[', respectively.\n",
      "              if the target is a type of item sets:\n",
      "                a list of patterns (i.e. tuples with one or more elements),\n",
      "                each consisting of a tuple with a found frequent item set\n",
      "                and the values selected by the parameter 'report', which\n",
      "                may be combined into a tuple or list if report[0] is '('\n",
      "                or '[', respectively\n",
      "            if report in ['#','=','|']:\n",
      "              a pattern spectrum as a dictionary mapping pattern sizes\n",
      "              to the corresponding occurrence support ranges, as a list\n",
      "              of triplets (size, min. support, max. support) or as three\n",
      "              columns for sizes and minimum and maximum support values\n",
      "\n"
     ]
    }
   ],
   "source": [
    "help(apriori)\n"
   ]
  },
  {
   "cell_type": "code",
   "execution_count": 116,
   "metadata": {},
   "outputs": [],
   "source": [
    "#in questo modo creiamo i baskets, cioé selezioniamo gli attributi per ogni riga corrispondente\n",
    "baskets = df.values.tolist()\n"
   ]
  },
  {
   "cell_type": "markdown",
   "metadata": {},
   "source": [
    "# frequent itemset"
   ]
  },
  {
   "cell_type": "code",
   "execution_count": 117,
   "metadata": {},
   "outputs": [
    {
     "name": "stdout",
     "output_type": "stream",
     "text": [
      "Number of itemsets:77553 supp: 1\n",
      "Number of itemsets:25899 supp: 2\n",
      "Number of itemsets:12686 supp: 3\n",
      "Number of itemsets:7329 supp: 4\n",
      "Number of itemsets:4637 supp: 5\n",
      "Number of itemsets:3128 supp: 6\n",
      "Number of itemsets:2233 supp: 7\n",
      "Number of itemsets:1612 supp: 8\n",
      "Number of itemsets:1136 supp: 9\n",
      "Number of itemsets:880 supp: 10\n",
      "Number of itemsets:684 supp: 11\n",
      "Number of itemsets:527 supp: 12\n",
      "Number of itemsets:423 supp: 13\n",
      "Number of itemsets:358 supp: 14\n",
      "Number of itemsets:284 supp: 15\n",
      "Number of itemsets:233 supp: 16\n",
      "Number of itemsets:169 supp: 17\n",
      "Number of itemsets:143 supp: 18\n",
      "Number of itemsets:119 supp: 19\n",
      "Number of itemsets:95 supp: 20\n",
      "Number of itemsets:83 supp: 21\n",
      "Number of itemsets:64 supp: 22\n",
      "Number of itemsets:53 supp: 23\n",
      "Number of itemsets:48 supp: 24\n",
      "Number of itemsets:42 supp: 25\n",
      "Number of itemsets:33 supp: 26\n",
      "Number of itemsets:29 supp: 27\n"
     ]
    }
   ],
   "source": [
    "height = []\n",
    "for i in range (1, 28):\n",
    "    itemsets = apriori(baskets, supp=i, zmin=3, target='a')\n",
    "    print('Number of itemsets:{} supp: {}'.format(len(itemsets),i))\n",
    "    height.append(len(itemsets))\n",
    "    \n",
    "\n",
    "    "
   ]
  },
  {
   "cell_type": "code",
   "execution_count": 118,
   "metadata": {},
   "outputs": [
    {
     "data": {
      "image/png": "[encoded data removed]",
      "text/plain": [
       "<Figure size 432x288 with 1 Axes>"
      ]
     },
     "metadata": {
      "needs_background": "light"
     },
     "output_type": "display_data"
    }
   ],
   "source": [
    "\n",
    "\n",
    "\n",
    "bars = ('1', '2', '3', '4', '5', '6', '7', '8', '9', '10', '11', '12','13','14','15','16','17','18','19','20','21','22','23','24','25','26','27')\n",
    "y_pos = np.arange(len(bars))\n",
    " \n",
    "# Create bars\n",
    "plt.bar(y_pos, height)\n",
    " \n",
    "# Create names on the x-axis\n",
    "plt.xticks(y_pos, bars)\n",
    "plt.yscale('log')\n",
    "plt.xlabel('support')\n",
    "plt.ylabel('number of itemsets (log-scale)')\n",
    " \n",
    "# Show graphic\n",
    "plt.show()"
   ]
  },
  {
   "cell_type": "code",
   "execution_count": 119,
   "metadata": {},
   "outputs": [
    {
     "name": "stdout",
     "output_type": "stream",
     "text": [
      "support 15%\n"
     ]
    },
    {
     "data": {
      "text/plain": [
       "[(('Research & Development', 'Travel_Rarely', 'Attrition:No'), 171),\n",
       " (('DFH:[0, 10)', 'Travel_Rarely', 'Attrition:No'), 165),\n",
       " (('WLB:high', 'Travel_Rarely', 'Attrition:No'), 161),\n",
       " (('Research & Development', 'DFH:[0, 10)', 'Attrition:No'), 161),\n",
       " (('Male', 'Travel_Rarely', 'Attrition:No'), 155),\n",
       " (('WLB:high', 'DFH:[0, 10)', 'Attrition:No'), 148),\n",
       " (('WLB:high', 'Research & Development', 'Attrition:No'), 147),\n",
       " (('Male', 'Research & Development', 'Attrition:No'), 146),\n",
       " (('Male', 'DFH:[0, 10)', 'Attrition:No'), 143),\n",
       " (('Research & Development', 'DFH:[0, 10)', 'Travel_Rarely'), 140),\n",
       " (('WLB:high', 'DFH:[0, 10)', 'Travel_Rarely'), 137),\n",
       " (('Age:[30.0, 40.0)', 'Travel_Rarely', 'Attrition:No'), 135),\n",
       " (('WLB:high', 'Male', 'Attrition:No'), 135),\n",
       " (('WLB:high', 'Research & Development', 'Travel_Rarely'), 129),\n",
       " (('Age:[30.0, 40.0)', 'DFH:[0, 10)', 'Attrition:No'), 126),\n",
       " (('Male', 'DFH:[0, 10)', 'Travel_Rarely'), 126)]"
      ]
     },
     "execution_count": 119,
     "metadata": {},
     "output_type": "execute_result"
    }
   ],
   "source": [
    "itemsets = apriori(baskets, supp=15,  zmin=3, target='a')\n",
    "print('support 15%'.format())\n",
    "itemsets.sort(key=lambda x: x[1],reverse=True)\n",
    "itemsets[0:16]\n",
    "\n",
    "\n",
    "    "
   ]
  },
  {
   "cell_type": "code",
   "execution_count": 120,
   "metadata": {},
   "outputs": [
    {
     "name": "stdout",
     "output_type": "stream",
     "text": [
      "support 16%\n"
     ]
    },
    {
     "data": {
      "text/plain": [
       "[(('Research & Development', 'Travel_Rarely', 'Attrition:No'), 171),\n",
       " (('DFH:[0, 10)', 'Travel_Rarely', 'Attrition:No'), 165),\n",
       " (('WLB:high', 'Travel_Rarely', 'Attrition:No'), 161),\n",
       " (('Research & Development', 'DFH:[0, 10)', 'Attrition:No'), 161),\n",
       " (('Male', 'Travel_Rarely', 'Attrition:No'), 155),\n",
       " (('WLB:high', 'DFH:[0, 10)', 'Attrition:No'), 148),\n",
       " (('WLB:high', 'Research & Development', 'Attrition:No'), 147),\n",
       " (('Male', 'Research & Development', 'Attrition:No'), 146),\n",
       " (('Male', 'DFH:[0, 10)', 'Attrition:No'), 143),\n",
       " (('Research & Development', 'DFH:[0, 10)', 'Travel_Rarely'), 140)]"
      ]
     },
     "execution_count": 120,
     "metadata": {},
     "output_type": "execute_result"
    }
   ],
   "source": [
    "itemsets = apriori(baskets, supp=19,  zmin=3, target='a')\n",
    "print('support 16%'.format())\n",
    "itemsets.sort(key=lambda x: x[1],reverse=True)\n",
    "itemsets[0:10]"
   ]
  },
  {
   "cell_type": "markdown",
   "metadata": {},
   "source": [
    "Travel_rarely appears in itemsets that contain Attritoin:no"
   ]
  },
  {
   "cell_type": "code",
   "execution_count": 121,
   "metadata": {},
   "outputs": [
    {
     "name": "stdout",
     "output_type": "stream",
     "text": [
      "support 16%\n"
     ]
    },
    {
     "data": {
      "text/plain": [
       "[(('Research & Development', 'Travel_Rarely', 'Attrition:No'), 171),\n",
       " (('DFH:[0, 10)', 'Travel_Rarely', 'Attrition:No'), 165),\n",
       " (('WLB:high', 'Travel_Rarely', 'Attrition:No'), 161),\n",
       " (('Research & Development', 'DFH:[0, 10)', 'Attrition:No'), 161),\n",
       " (('Male', 'Travel_Rarely', 'Attrition:No'), 155),\n",
       " (('WLB:high', 'DFH:[0, 10)', 'Attrition:No'), 148),\n",
       " (('WLB:high', 'Research & Development', 'Attrition:No'), 147),\n",
       " (('Male', 'Research & Development', 'Attrition:No'), 146),\n",
       " (('Male', 'DFH:[0, 10)', 'Attrition:No'), 143),\n",
       " (('Research & Development', 'DFH:[0, 10)', 'Travel_Rarely'), 140),\n",
       " (('WLB:high', 'DFH:[0, 10)', 'Travel_Rarely'), 137),\n",
       " (('Age:[30.0, 40.0)', 'Travel_Rarely', 'Attrition:No'), 135),\n",
       " (('WLB:high', 'Male', 'Attrition:No'), 135),\n",
       " (('WLB:high', 'Research & Development', 'Travel_Rarely'), 129),\n",
       " (('Age:[30.0, 40.0)', 'DFH:[0, 10)', 'Attrition:No'), 126),\n",
       " (('Male', 'DFH:[0, 10)', 'Travel_Rarely'), 126),\n",
       " (('Age:[30.0, 40.0)', 'Research & Development', 'Attrition:No'), 125),\n",
       " (('Male', 'Research & Development', 'Travel_Rarely'), 125),\n",
       " (('Research & Development', 'DFH:[0, 10)', 'Travel_Rarely', 'Attrition:No'),\n",
       "  120),\n",
       " (('Married', 'Travel_Rarely', 'Attrition:No'), 119)]"
      ]
     },
     "execution_count": 121,
     "metadata": {},
     "output_type": "execute_result"
    }
   ],
   "source": [
    "itemsets = apriori(baskets, supp=2,  zmin=3, target='a')\n",
    "print('support 16%'.format())\n",
    "itemsets.sort(key=lambda x: x[1],reverse=True)\n",
    "itemsets[0:20]"
   ]
  },
  {
   "cell_type": "code",
   "execution_count": 122,
   "metadata": {},
   "outputs": [
    {
     "name": "stdout",
     "output_type": "stream",
     "text": [
      "1\n",
      "2\n",
      "3\n",
      "4\n",
      "5\n",
      "6\n",
      "7\n",
      "8\n",
      "9\n",
      "10\n",
      "11\n",
      "12\n",
      "13\n",
      "14\n",
      "15\n",
      "16\n",
      "17\n",
      "18\n",
      "19\n",
      "20\n",
      "21\n",
      "22\n",
      "23\n",
      "24\n"
     ]
    },
    {
     "data": {
      "text/plain": [
       "[{'supp': 0.24271844660194172, 'conf': 12.5, 'lift': 51.5},\n",
       " {'supp': 0.24271844660194172,\n",
       "  'conf': 11.11111111111111,\n",
       "  'lift': 45.77777777777778},\n",
       " {'supp': 0.24271844660194172,\n",
       "  'conf': 7.142857142857142,\n",
       "  'lift': 29.428571428571427},\n",
       " {'supp': 0.24271844660194172,\n",
       "  'conf': 5.88235294117647,\n",
       "  'lift': 24.235294117647058},\n",
       " {'supp': 0.24271844660194172,\n",
       "  'conf': 6.666666666666667,\n",
       "  'lift': 27.466666666666665}]"
      ]
     },
     "execution_count": 122,
     "metadata": {},
     "output_type": "execute_result"
    }
   ],
   "source": [
    "results = []\n",
    "for support in range(1, 25):\n",
    "    for confidence in range(1, 80):\n",
    "        itemsets = apriori(baskets, supp=support, zmin=2,zmax=3, target='r', conf=confidence, report='SCl')\n",
    "        for e in itemsets: \n",
    "            results.append({\n",
    "                'supp': e[2],\n",
    "                'conf': e[3],\n",
    "                'lift': e[4]\n",
    "            })\n",
    "    print(support)\n",
    "            \n",
    "results[0:5]"
   ]
  },
  {
   "cell_type": "code",
   "execution_count": 123,
   "metadata": {},
   "outputs": [],
   "source": [
    "df_ = pd.DataFrame(results)\n"
   ]
  },
  {
   "cell_type": "code",
   "execution_count": 124,
   "metadata": {},
   "outputs": [
    {
     "data": {
      "text/html": [
       "<div>\n",
       "<style scoped>\n",
       "    .dataframe tbody tr th:only-of-type {\n",
       "        vertical-align: middle;\n",
       "    }\n",
       "\n",
       "    .dataframe tbody tr th {\n",
       "        vertical-align: top;\n",
       "    }\n",
       "\n",
       "    .dataframe thead th {\n",
       "        text-align: right;\n",
       "    }\n",
       "</style>\n",
       "<table border=\"1\" class=\"dataframe\">\n",
       "  <thead>\n",
       "    <tr style=\"text-align: right;\">\n",
       "      <th></th>\n",
       "      <th>supp</th>\n",
       "      <th>conf</th>\n",
       "      <th>lift</th>\n",
       "    </tr>\n",
       "  </thead>\n",
       "  <tbody>\n",
       "    <tr>\n",
       "      <td>0</td>\n",
       "      <td>0.242718</td>\n",
       "      <td>12.500000</td>\n",
       "      <td>51.500000</td>\n",
       "    </tr>\n",
       "    <tr>\n",
       "      <td>1</td>\n",
       "      <td>0.242718</td>\n",
       "      <td>11.111111</td>\n",
       "      <td>45.777778</td>\n",
       "    </tr>\n",
       "    <tr>\n",
       "      <td>2</td>\n",
       "      <td>0.242718</td>\n",
       "      <td>7.142857</td>\n",
       "      <td>29.428571</td>\n",
       "    </tr>\n",
       "    <tr>\n",
       "      <td>3</td>\n",
       "      <td>0.242718</td>\n",
       "      <td>5.882353</td>\n",
       "      <td>24.235294</td>\n",
       "    </tr>\n",
       "    <tr>\n",
       "      <td>4</td>\n",
       "      <td>0.242718</td>\n",
       "      <td>6.666667</td>\n",
       "      <td>27.466667</td>\n",
       "    </tr>\n",
       "  </tbody>\n",
       "</table>\n",
       "</div>"
      ],
      "text/plain": [
       "       supp       conf       lift\n",
       "0  0.242718  12.500000  51.500000\n",
       "1  0.242718  11.111111  45.777778\n",
       "2  0.242718   7.142857  29.428571\n",
       "3  0.242718   5.882353  24.235294\n",
       "4  0.242718   6.666667  27.466667"
      ]
     },
     "execution_count": 124,
     "metadata": {},
     "output_type": "execute_result"
    }
   ],
   "source": [
    "df_.head()\n"
   ]
  },
  {
   "cell_type": "code",
   "execution_count": 125,
   "metadata": {},
   "outputs": [],
   "source": [
    "df_ = df_[df_['lift'] <= 6]\n"
   ]
  },
  {
   "cell_type": "code",
   "execution_count": 126,
   "metadata": {},
   "outputs": [],
   "source": [
    "df_s = df_.sample(10000)\n"
   ]
  },
  {
   "cell_type": "code",
   "execution_count": 127,
   "metadata": {},
   "outputs": [
    {
     "data": {
      "image/png": "[encoded data removed]",
      "text/plain": [
       "<Figure size 432x288 with 2 Axes>"
      ]
     },
     "metadata": {
      "needs_background": "light"
     },
     "output_type": "display_data"
    }
   ],
   "source": [
    "plt.scatter(df_s['conf'], df_s['supp'],c= df_s['lift'], cmap='viridis')\n",
    "plt.xlabel(\"confidence\")\n",
    "plt.ylabel(\"support\")\n",
    "plt.colorbar(label=\"lift\")\n",
    "plt.show()\n"
   ]
  },
  {
   "cell_type": "code",
   "execution_count": 128,
   "metadata": {},
   "outputs": [
    {
     "data": {
      "text/plain": [
       "5.971014492753623"
      ]
     },
     "execution_count": 128,
     "metadata": {},
     "output_type": "execute_result"
    }
   ],
   "source": [
    "df_.lift.max()\n"
   ]
  },
  {
   "cell_type": "markdown",
   "metadata": {},
   "source": [
    "MAXIMAL ITEMSETS"
   ]
  },
  {
   "cell_type": "code",
   "execution_count": 129,
   "metadata": {},
   "outputs": [
    {
     "data": {
      "text/plain": [
       "[('Research & Development', ('Research Scientist',), 85),\n",
       " ('Research & Development', ('Laboratory Technician',), 89),\n",
       " ('Sales', ('Sales Executive',), 93)]"
      ]
     },
     "execution_count": 129,
     "metadata": {},
     "output_type": "execute_result"
    }
   ],
   "source": [
    "itemsets = apriori(baskets, supp=20 ,conf=100, zmin=1, zmax=2, target='r')\n",
    "itemsets"
   ]
  },
  {
   "cell_type": "code",
   "execution_count": 130,
   "metadata": {},
   "outputs": [
    {
     "name": "stdout",
     "output_type": "stream",
     "text": [
      "Number of itemsets: 3\n"
     ]
    },
    {
     "data": {
      "text/plain": [
       "[('Research & Development', ('Research Scientist',), 85),\n",
       " ('Research & Development', ('Laboratory Technician',), 89),\n",
       " ('Sales', ('Sales Executive',), 93)]"
      ]
     },
     "execution_count": 130,
     "metadata": {},
     "output_type": "execute_result"
    }
   ],
   "source": [
    "print('Number of itemsets:', len(itemsets))\n",
    "\n",
    "itemsets"
   ]
  },
  {
   "cell_type": "code",
   "execution_count": 131,
   "metadata": {},
   "outputs": [],
   "source": [
    "itemsets.sort(key=lambda x: x[1],reverse=True)\n"
   ]
  },
  {
   "cell_type": "code",
   "execution_count": 132,
   "metadata": {},
   "outputs": [
    {
     "data": {
      "text/plain": [
       "[('Sales', ('Sales Executive',), 93),\n",
       " ('Research & Development', ('Research Scientist',), 85),\n",
       " ('Research & Development', ('Laboratory Technician',), 89)]"
      ]
     },
     "execution_count": 132,
     "metadata": {},
     "output_type": "execute_result"
    }
   ],
   "source": [
    "itemsets[:16]\n"
   ]
  },
  {
   "cell_type": "markdown",
   "metadata": {},
   "source": [
    "CLOSED ITEMSETS"
   ]
  },
  {
   "cell_type": "code",
   "execution_count": 133,
   "metadata": {},
   "outputs": [],
   "source": [
    "itemsets = apriori(baskets, supp=20, zmin=3, target='c')\n"
   ]
  },
  {
   "cell_type": "code",
   "execution_count": 134,
   "metadata": {},
   "outputs": [
    {
     "name": "stdout",
     "output_type": "stream",
     "text": [
      "Number of itemsets: 95\n"
     ]
    }
   ],
   "source": [
    "print('Number of itemsets:', len(itemsets))\n"
   ]
  },
  {
   "cell_type": "code",
   "execution_count": 135,
   "metadata": {},
   "outputs": [
    {
     "name": "stdout",
     "output_type": "stream",
     "text": [
      "Number of itemsets:6479 supp: 4\n",
      "Number of itemsets:4228 supp: 5\n",
      "Number of itemsets:2915 supp: 6\n",
      "Number of itemsets:2115 supp: 7\n",
      "Number of itemsets:1545 supp: 8\n",
      "Number of itemsets:1099 supp: 9\n",
      "Number of itemsets:859 supp: 10\n",
      "Number of itemsets:673 supp: 11\n",
      "Number of itemsets:524 supp: 12\n",
      "Number of itemsets:421 supp: 13\n",
      "Number of itemsets:356 supp: 14\n",
      "Number of itemsets:284 supp: 15\n",
      "Number of itemsets:233 supp: 16\n",
      "Number of itemsets:169 supp: 17\n",
      "Number of itemsets:143 supp: 18\n",
      "Number of itemsets:119 supp: 19\n",
      "Number of itemsets:95 supp: 20\n",
      "Number of itemsets:83 supp: 21\n",
      "Number of itemsets:64 supp: 22\n",
      "Number of itemsets:53 supp: 23\n",
      "Number of itemsets:48 supp: 24\n",
      "Number of itemsets:42 supp: 25\n",
      "Number of itemsets:33 supp: 26\n",
      "Number of itemsets:29 supp: 27\n",
      "Number of itemsets:25 supp: 28\n",
      "Number of itemsets:19 supp: 29\n",
      "Number of itemsets:18 supp: 30\n",
      "Number of itemsets:14 supp: 31\n",
      "Number of itemsets:13 supp: 32\n",
      "Number of itemsets:11 supp: 33\n",
      "Number of itemsets:9 supp: 34\n"
     ]
    }
   ],
   "source": [
    "for i in range(4, 35):\n",
    "    itemsets = apriori(baskets, supp=i, zmin=3, target='c')\n",
    "    print('Number of itemsets:{} supp: {}'.format(len(itemsets),i))\n",
    "    "
   ]
  },
  {
   "cell_type": "code",
   "execution_count": 136,
   "metadata": {},
   "outputs": [],
   "source": [
    "#make barplot for this"
   ]
  },
  {
   "cell_type": "code",
   "execution_count": 137,
   "metadata": {},
   "outputs": [],
   "source": [
    "itemsets.sort(key=lambda x: x[1],reverse=True)\n"
   ]
  },
  {
   "cell_type": "code",
   "execution_count": 138,
   "metadata": {},
   "outputs": [
    {
     "data": {
      "text/plain": [
       "[(('Research & Development', 'Travel_Rarely', 'Attrition:No'), 171),\n",
       " (('DFH:[0, 10)', 'Travel_Rarely', 'Attrition:No'), 165),\n",
       " (('WLB:high', 'Travel_Rarely', 'Attrition:No'), 161),\n",
       " (('Research & Development', 'DFH:[0, 10)', 'Attrition:No'), 161),\n",
       " (('Male', 'Travel_Rarely', 'Attrition:No'), 155),\n",
       " (('WLB:high', 'DFH:[0, 10)', 'Attrition:No'), 148),\n",
       " (('WLB:high', 'Research & Development', 'Attrition:No'), 147),\n",
       " (('Male', 'Research & Development', 'Attrition:No'), 146),\n",
       " (('Male', 'DFH:[0, 10)', 'Attrition:No'), 143)]"
      ]
     },
     "execution_count": 138,
     "metadata": {},
     "output_type": "execute_result"
    }
   ],
   "source": [
    "itemsets\n"
   ]
  },
  {
   "cell_type": "markdown",
   "metadata": {},
   "source": [
    "ASSOCIATION RULES"
   ]
  },
  {
   "cell_type": "code",
   "execution_count": 139,
   "metadata": {},
   "outputs": [
    {
     "data": {
      "text/plain": [
       "[('Attrition:No',\n",
       "  ('YAC:[5, 10)', 'Research & Development', 'Travel_Rarely'),\n",
       "  78,\n",
       "  0.18932038834951456,\n",
       "  0.9285714285714286,\n",
       "  1.1386054421768708),\n",
       " ('Attrition:No',\n",
       "  ('Married', 'Male', 'Travel_Rarely'),\n",
       "  72,\n",
       "  0.17475728155339806,\n",
       "  0.9113924050632911,\n",
       "  1.1175406871609403),\n",
       " ('Attrition:No',\n",
       "  ('WLB:high', 'Male', 'Research & Development'),\n",
       "  92,\n",
       "  0.22330097087378642,\n",
       "  0.9108910891089109,\n",
       "  1.1169259783121168),\n",
       " ('Attrition:No',\n",
       "  ('YAC:[5, 10)', 'WLB:high'),\n",
       "  90,\n",
       "  0.21844660194174756,\n",
       "  0.9090909090909091,\n",
       "  1.1147186147186148),\n",
       " ('Attrition:No',\n",
       "  ('YAC:[5, 10)', 'Research & Development'),\n",
       "  105,\n",
       "  0.25485436893203883,\n",
       "  0.9051724137931034,\n",
       "  1.1099137931034482),\n",
       " ('Attrition:No',\n",
       "  ('YAC:[5, 10)', 'Travel_Rarely'),\n",
       "  114,\n",
       "  0.2766990291262136,\n",
       "  0.9047619047619048,\n",
       "  1.1094104308390023),\n",
       " ('Attrition:No',\n",
       "  ('YAC:[5, 10)', 'Research & Development', 'DFH:[0, 10)'),\n",
       "  73,\n",
       "  0.17718446601941748,\n",
       "  0.9012345679012346,\n",
       "  1.1050852439741328),\n",
       " ('Attrition:No',\n",
       "  ('Married', 'Travel_Rarely'),\n",
       "  119,\n",
       "  0.28883495145631066,\n",
       "  0.8947368421052632,\n",
       "  1.0971177944862156),\n",
       " ('Attrition:No',\n",
       "  ('YAC:[5, 10)', 'DFH:[0, 10)', 'Travel_Rarely'),\n",
       "  74,\n",
       "  0.1796116504854369,\n",
       "  0.891566265060241,\n",
       "  1.0932300631095813),\n",
       " ('Attrition:No',\n",
       "  ('WLB:high', 'Research & Development'),\n",
       "  147,\n",
       "  0.3567961165048544,\n",
       "  0.8909090909090909,\n",
       "  1.0924242424242425),\n",
       " ('Attrition:No',\n",
       "  ('Married', 'DFH:[0, 10)', 'Travel_Rarely'),\n",
       "  81,\n",
       "  0.1966019417475728,\n",
       "  0.8901098901098901,\n",
       "  1.0914442700156985),\n",
       " ('Attrition:No',\n",
       "  ('Age:[30.0, 40.0)', 'WLB:high', 'Research & Development'),\n",
       "  81,\n",
       "  0.1966019417475728,\n",
       "  0.8901098901098901,\n",
       "  1.0914442700156985),\n",
       " ('Attrition:No',\n",
       "  ('Married', 'WLB:high'),\n",
       "  89,\n",
       "  0.21601941747572814,\n",
       "  0.89,\n",
       "  1.0913095238095238),\n",
       " ('Attrition:No',\n",
       "  ('WLB:high', 'Research & Development', 'DFH:[0, 10)'),\n",
       "  105,\n",
       "  0.25485436893203883,\n",
       "  0.8898305084745762,\n",
       "  1.0911016949152543),\n",
       " ('Attrition:No',\n",
       "  ('Life Sciences', 'WLB:high'),\n",
       "  88,\n",
       "  0.21359223300970873,\n",
       "  0.8888888888888888,\n",
       "  1.08994708994709),\n",
       " ('Attrition:No',\n",
       "  ('Married', 'Research & Development', 'Travel_Rarely'),\n",
       "  80,\n",
       "  0.1941747572815534,\n",
       "  0.8888888888888888,\n",
       "  1.08994708994709),\n",
       " ('Attrition:No',\n",
       "  ('MonthlyIncome:[2500, 5000)', 'Research & Development'),\n",
       "  79,\n",
       "  0.19174757281553398,\n",
       "  0.8876404494382022,\n",
       "  1.0884162653825575),\n",
       " ('Attrition:No',\n",
       "  ('Married', 'Male'),\n",
       "  94,\n",
       "  0.22815533980582525,\n",
       "  0.8867924528301887,\n",
       "  1.0873764600179694),\n",
       " ('Attrition:No',\n",
       "  ('Married', 'WLB:high', 'Travel_Rarely'),\n",
       "  70,\n",
       "  0.16990291262135923,\n",
       "  0.8860759493670886,\n",
       "  1.0864978902953586),\n",
       " ('Attrition:No',\n",
       "  ('MonthlyIncome:[2500, 5000)', 'WLB:high'),\n",
       "  83,\n",
       "  0.20145631067961164,\n",
       "  0.8829787234042553,\n",
       "  1.0827001013171227),\n",
       " ('Attrition:No',\n",
       "  ('YAC:[5, 10)', 'DFH:[0, 10)'),\n",
       "  105,\n",
       "  0.25485436893203883,\n",
       "  0.8823529411764706,\n",
       "  1.0819327731092436),\n",
       " ('Attrition:No',\n",
       "  ('Married', 'DFH:[0, 10)'),\n",
       "  104,\n",
       "  0.2524271844660194,\n",
       "  0.8813559322033898,\n",
       "  1.0807102502017756),\n",
       " ('Attrition:No',\n",
       "  ('Male', 'Research & Development', 'DFH:[0, 10)'),\n",
       "  104,\n",
       "  0.2524271844660194,\n",
       "  0.8813559322033898,\n",
       "  1.0807102502017756),\n",
       " ('Attrition:No',\n",
       "  ('Married', 'Research & Development', 'DFH:[0, 10)'),\n",
       "  73,\n",
       "  0.17718446601941748,\n",
       "  0.8795180722891566,\n",
       "  1.0784566838783707),\n",
       " ('Attrition:No',\n",
       "  ('WLB:high', 'Research & Development', 'Travel_Rarely'),\n",
       "  113,\n",
       "  0.27427184466019416,\n",
       "  0.875968992248062,\n",
       "  1.0741048357327427),\n",
       " ('Attrition:No',\n",
       "  ('Male', 'Research & Development', 'DFH:[0, 10)', 'Travel_Rarely'),\n",
       "  77,\n",
       "  0.18689320388349515,\n",
       "  0.875,\n",
       "  1.0729166666666667),\n",
       " ('Attrition:No',\n",
       "  ('YAC:[5, 10)', 'Male'),\n",
       "  95,\n",
       "  0.23058252427184467,\n",
       "  0.8715596330275229,\n",
       "  1.068698121450415),\n",
       " ('Attrition:No',\n",
       "  ('Life Sciences', 'Research & Development', 'DFH:[0, 10)'),\n",
       "  81,\n",
       "  0.1966019417475728,\n",
       "  0.8709677419354839,\n",
       "  1.0679723502304148),\n",
       " ('Attrition:No',\n",
       "  ('WLB:high', 'Research & Development', 'DFH:[0, 10)', 'Travel_Rarely'),\n",
       "  81,\n",
       "  0.1966019417475728,\n",
       "  0.8709677419354839,\n",
       "  1.0679723502304148),\n",
       " ('Attrition:No',\n",
       "  ('Medical', 'Research & Development'),\n",
       "  90,\n",
       "  0.21844660194174756,\n",
       "  0.8653846153846154,\n",
       "  1.0611263736263736),\n",
       " ('Attrition:No',\n",
       "  ('Married', 'Research & Development'),\n",
       "  102,\n",
       "  0.24757281553398058,\n",
       "  0.864406779661017,\n",
       "  1.0599273607748183),\n",
       " ('Attrition:No',\n",
       "  ('Age:[30.0, 40.0)', 'WLB:high', 'Male'),\n",
       "  76,\n",
       "  0.18446601941747573,\n",
       "  0.8636363636363636,\n",
       "  1.058982683982684),\n",
       " ('Attrition:No',\n",
       "  ('Medical', 'DFH:[0, 10)'),\n",
       "  69,\n",
       "  0.16747572815533981,\n",
       "  0.8625,\n",
       "  1.0575892857142857),\n",
       " ('Attrition:No',\n",
       "  ('Life Sciences', 'DFH:[0, 10)', 'Travel_Rarely'),\n",
       "  75,\n",
       "  0.1820388349514563,\n",
       "  0.8620689655172413,\n",
       "  1.0570607553366174),\n",
       " ('Attrition:No',\n",
       "  ('Research & Development', 'DFH:[0, 10)'),\n",
       "  161,\n",
       "  0.3907766990291262,\n",
       "  0.8609625668449198,\n",
       "  1.0557040998217468),\n",
       " ('Research & Development',\n",
       "  ('Medical', 'Travel_Rarely', 'Attrition:No'),\n",
       "  68,\n",
       "  0.1650485436893204,\n",
       "  0.8607594936708861,\n",
       "  1.3037974683544304),\n",
       " ('Attrition:No',\n",
       "  ('Research Scientist', 'Research & Development'),\n",
       "  73,\n",
       "  0.17718446601941748,\n",
       "  0.8588235294117647,\n",
       "  1.0530812324929972),\n",
       " ('Attrition:No',\n",
       "  ('Life Sciences', 'Research & Development', 'Travel_Rarely'),\n",
       "  79,\n",
       "  0.19174757281553398,\n",
       "  0.8586956521739131,\n",
       "  1.052924430641822),\n",
       " ('Attrition:No',\n",
       "  ('MonthlyIncome:[2500, 5000)', 'DFH:[0, 10)'),\n",
       "  90,\n",
       "  0.21844660194174756,\n",
       "  0.8571428571428571,\n",
       "  1.0510204081632653),\n",
       " ('Attrition:No',\n",
       "  ('WLB:high', 'Male', 'Travel_Rarely'),\n",
       "  102,\n",
       "  0.24757281553398058,\n",
       "  0.8571428571428571,\n",
       "  1.0510204081632653),\n",
       " ('Attrition:No',\n",
       "  ('Research & Development', 'DFH:[0, 10)', 'Travel_Rarely'),\n",
       "  120,\n",
       "  0.2912621359223301,\n",
       "  0.8571428571428571,\n",
       "  1.0510204081632653),\n",
       " ('Attrition:No',\n",
       "  ('WLB:high', 'Male', 'DFH:[0, 10)'),\n",
       "  95,\n",
       "  0.23058252427184467,\n",
       "  0.8558558558558559,\n",
       "  1.0494422994422994),\n",
       " ('Attrition:No',\n",
       "  ('YAC:[5, 10)', 'Age:[30.0, 40.0)'),\n",
       "  89,\n",
       "  0.21601941747572814,\n",
       "  0.8557692307692307,\n",
       "  1.0493360805860805),\n",
       " ('Attrition:No',\n",
       "  ('Age:[30.0, 40.0)', 'Research & Development', 'DFH:[0, 10)'),\n",
       "  89,\n",
       "  0.21601941747572814,\n",
       "  0.8557692307692307,\n",
       "  1.0493360805860805),\n",
       " ('Attrition:No',\n",
       "  ('WLB:high', 'Male'),\n",
       "  135,\n",
       "  0.3276699029126214,\n",
       "  0.8544303797468354,\n",
       "  1.0476943942133816),\n",
       " ('Attrition:No',\n",
       "  ('Male', 'Research & Development'),\n",
       "  146,\n",
       "  0.35436893203883496,\n",
       "  0.8538011695906432,\n",
       "  1.0469228627123364),\n",
       " ('Attrition:No',\n",
       "  ('Life Sciences', 'Male', 'Research & Development'),\n",
       "  70,\n",
       "  0.16990291262135923,\n",
       "  0.8536585365853658,\n",
       "  1.0467479674796747),\n",
       " ('Attrition:No',\n",
       "  ('Life Sciences', 'Male', 'Travel_Rarely'),\n",
       "  70,\n",
       "  0.16990291262135923,\n",
       "  0.8536585365853658,\n",
       "  1.0467479674796747),\n",
       " ('Attrition:No',\n",
       "  ('Life Sciences', 'Travel_Rarely'),\n",
       "  105,\n",
       "  0.25485436893203883,\n",
       "  0.8536585365853658,\n",
       "  1.0467479674796747),\n",
       " ('Attrition:No',\n",
       "  ('Age:[30.0, 40.0)', 'WLB:high', 'Travel_Rarely'),\n",
       "  93,\n",
       "  0.22572815533980584,\n",
       "  0.8532110091743119,\n",
       "  1.0461992136304064),\n",
       " ('Research & Development',\n",
       "  ('Medical', 'Travel_Rarely'),\n",
       "  80,\n",
       "  0.1941747572815534,\n",
       "  0.851063829787234,\n",
       "  1.2891113892365458),\n",
       " ('Attrition:No',\n",
       "  ('Medical', 'Research & Development', 'Travel_Rarely'),\n",
       "  68,\n",
       "  0.1650485436893204,\n",
       "  0.85,\n",
       "  1.0422619047619048),\n",
       " ('Attrition:No',\n",
       "  ('Life Sciences', 'DFH:[0, 10)'),\n",
       "  102,\n",
       "  0.24757281553398058,\n",
       "  0.85,\n",
       "  1.0422619047619048),\n",
       " ('Attrition:No',\n",
       "  ('Life Sciences', 'Research & Development'),\n",
       "  106,\n",
       "  0.25728155339805825,\n",
       "  0.848,\n",
       "  1.0398095238095237),\n",
       " ('Attrition:No',\n",
       "  ('Male', 'Research & Development', 'Travel_Rarely'),\n",
       "  106,\n",
       "  0.25728155339805825,\n",
       "  0.848,\n",
       "  1.0398095238095237),\n",
       " ('Attrition:No',\n",
       "  ('Female', 'WLB:high'),\n",
       "  78,\n",
       "  0.18932038834951456,\n",
       "  0.8478260869565217,\n",
       "  1.0395962732919255),\n",
       " ('Attrition:No',\n",
       "  ('Life Sciences', 'Age:[30.0, 40.0)'),\n",
       "  78,\n",
       "  0.18932038834951456,\n",
       "  0.8478260869565217,\n",
       "  1.0395962732919255),\n",
       " ('Attrition:No',\n",
       "  ('Age:[30.0, 40.0)', 'WLB:high'),\n",
       "  117,\n",
       "  0.28398058252427183,\n",
       "  0.8478260869565217,\n",
       "  1.0395962732919255),\n",
       " ('Attrition:No',\n",
       "  ('WLB:high', 'Male', 'DFH:[0, 10)', 'Travel_Rarely'),\n",
       "  70,\n",
       "  0.16990291262135923,\n",
       "  0.8433734939759037,\n",
       "  1.034136546184739),\n",
       " ('Attrition:No',\n",
       "  ('WLB:high', 'Travel_Rarely'),\n",
       "  161,\n",
       "  0.3907766990291262,\n",
       "  0.8429319371727748,\n",
       "  1.0335951134380454),\n",
       " ('Attrition:No',\n",
       "  ('WLB:high', 'DFH:[0, 10)'),\n",
       "  148,\n",
       "  0.3592233009708738,\n",
       "  0.8409090909090909,\n",
       "  1.0311147186147187),\n",
       " ('Attrition:No',\n",
       "  ('Age:[30.0, 40.0)', 'Research & Development', 'Travel_Rarely'),\n",
       "  95,\n",
       "  0.23058252427184467,\n",
       "  0.8407079646017699,\n",
       "  1.0308680994521702),\n",
       " ('Attrition:No',\n",
       "  ('Medical', 'Travel_Rarely'),\n",
       "  79,\n",
       "  0.19174757281553398,\n",
       "  0.8404255319148937,\n",
       "  1.0305217831813576),\n",
       " ('Attrition:No',\n",
       "  ('Research & Development', 'Travel_Rarely'),\n",
       "  171,\n",
       "  0.41504854368932037,\n",
       "  0.8382352941176471,\n",
       "  1.0278361344537814),\n",
       " ('Attrition:No',\n",
       "  ('Married', 'Age:[30.0, 40.0)'),\n",
       "  77,\n",
       "  0.18689320388349515,\n",
       "  0.8369565217391305,\n",
       "  1.026268115942029),\n",
       " ('Attrition:No',\n",
       "  ('Life Sciences', 'Male'),\n",
       "  92,\n",
       "  0.22330097087378642,\n",
       "  0.8363636363636363,\n",
       "  1.0255411255411255),\n",
       " ('Sales Executive',\n",
       "  ('Sales', 'Attrition:No'),\n",
       "  76,\n",
       "  0.18446601941747573,\n",
       "  0.8351648351648352,\n",
       "  3.6998700224506678),\n",
       " ('Attrition:No',\n",
       "  ('MonthlyIncome:[2500, 5000)', 'Travel_Rarely'),\n",
       "  91,\n",
       "  0.220873786407767,\n",
       "  0.8348623853211009,\n",
       "  1.0237003058103975),\n",
       " ('Attrition:No',\n",
       "  ('Male', 'DFH:[0, 10)'),\n",
       "  143,\n",
       "  0.3470873786407767,\n",
       "  0.8313953488372093,\n",
       "  1.0194490586932448),\n",
       " ('Attrition:No',\n",
       "  ('Age:[30.0, 40.0)', 'WLB:high', 'DFH:[0, 10)'),\n",
       "  82,\n",
       "  0.19902912621359223,\n",
       "  0.8282828282828283,\n",
       "  1.0156325156325157),\n",
       " ('Attrition:No',\n",
       "  ('Age:[30.0, 40.0)', 'Research & Development'),\n",
       "  125,\n",
       "  0.30339805825242716,\n",
       "  0.8278145695364238,\n",
       "  1.0150583412172816),\n",
       " ('Attrition:No',\n",
       "  ('bachelor', 'Age:[30.0, 40.0)'),\n",
       "  72,\n",
       "  0.17475728155339806,\n",
       "  0.8275862068965517,\n",
       "  1.0147783251231528),\n",
       " ('Research & Development',\n",
       "  ('Medical', 'Attrition:No'),\n",
       "  90,\n",
       "  0.21844660194174756,\n",
       "  0.8256880733944955,\n",
       "  1.2506745817593092),\n",
       " ('Research & Development',\n",
       "  ('Medical', 'DFH:[0, 10)'),\n",
       "  66,\n",
       "  0.16019417475728157,\n",
       "  0.825,\n",
       "  1.2496323529411764),\n",
       " ('Attrition:No',\n",
       "  ('WLB:high', 'DFH:[0, 10)', 'Travel_Rarely'),\n",
       "  113,\n",
       "  0.27427184466019416,\n",
       "  0.8248175182481752,\n",
       "  1.0113833854709766),\n",
       " ('Attrition:No',\n",
       "  ('Age:[30.0, 40.0)', 'Male', 'Research & Development'),\n",
       "  79,\n",
       "  0.19174757281553398,\n",
       "  0.8229166666666666,\n",
       "  1.0090525793650793),\n",
       " ('Attrition:No',\n",
       "  ('Female', 'Research & Development', 'Travel_Rarely'),\n",
       "  65,\n",
       "  0.15776699029126215,\n",
       "  0.8227848101265823,\n",
       "  1.0088908981314044),\n",
       " ('Attrition:No',\n",
       "  ('Female', 'Research & Development'),\n",
       "  83,\n",
       "  0.20145631067961164,\n",
       "  0.8217821782178217,\n",
       "  1.0076614804337576),\n",
       " ('Attrition:No',\n",
       "  ('Female', 'Travel_Rarely'),\n",
       "  91,\n",
       "  0.220873786407767,\n",
       "  0.8198198198198198,\n",
       "  1.0052552552552552),\n",
       " ('Attrition:No',\n",
       "  ('MonthlyIncome:[2500, 5000)', 'Age:[30.0, 40.0)'),\n",
       "  72,\n",
       "  0.17475728155339806,\n",
       "  0.8181818181818182,\n",
       "  1.0032467532467533),\n",
       " ('Attrition:No',\n",
       "  ('Female', 'DFH:[0, 10)'),\n",
       "  85,\n",
       "  0.20631067961165048,\n",
       "  0.8173076923076923,\n",
       "  1.0021749084249085),\n",
       " ('Attrition:No',\n",
       "  ('Sales Executive', 'Sales'),\n",
       "  76,\n",
       "  0.18446601941747573,\n",
       "  0.8172043010752689,\n",
       "  1.002048131080389),\n",
       " ('Attrition:No',\n",
       "  ('DFH:[0, 10)', 'Travel_Rarely'),\n",
       "  165,\n",
       "  0.40048543689320387,\n",
       "  0.8168316831683168,\n",
       "  1.0015912305516266),\n",
       " ('Attrition:No',\n",
       "  ('Age:[30.0, 40.0)', 'Male', 'DFH:[0, 10)'),\n",
       "  80,\n",
       "  0.1941747572815534,\n",
       "  0.8163265306122449,\n",
       "  1.000971817298348),\n",
       " ('Attrition:No',\n",
       "  ('YAC:[0, 5)', 'Research & Development', 'DFH:[0, 10)'),\n",
       "  66,\n",
       "  0.16019417475728157,\n",
       "  0.8148148148148148,\n",
       "  0.9991181657848325),\n",
       " ('Travel_Rarely',\n",
       "  ('Age:[30.0, 40.0)', 'WLB:high', 'Research & Development', 'Attrition:No'),\n",
       "  66,\n",
       "  0.16019417475728157,\n",
       "  0.8148148148148148,\n",
       "  1.1042884990253412),\n",
       " ('Attrition:No',\n",
       "  ('Age:[30.0, 40.0)', 'Male', 'Travel_Rarely'),\n",
       "  88,\n",
       "  0.21359223300970873,\n",
       "  0.8148148148148148,\n",
       "  0.9991181657848325),\n",
       " ('Attrition:No',\n",
       "  ('MonthlyIncome:[2500, 5000)', 'Male'),\n",
       "  83,\n",
       "  0.20145631067961164,\n",
       "  0.8137254901960784,\n",
       "  0.9977824463118581),\n",
       " ('Travel_Rarely',\n",
       "  ('Age:[30.0, 40.0)', 'WLB:high', 'Research & Development'),\n",
       "  74,\n",
       "  0.1796116504854369,\n",
       "  0.8131868131868132,\n",
       "  1.1020821283979179),\n",
       " ('Travel_Rarely',\n",
       "  ('Research Scientist', 'Research & Development'),\n",
       "  69,\n",
       "  0.16747572815533981,\n",
       "  0.8117647058823529,\n",
       "  1.1001547987616098),\n",
       " ('Research & Development',\n",
       "  ('MonthlyIncome:[5000, 7500)', 'Travel_Rarely', 'Attrition:No'),\n",
       "  64,\n",
       "  0.1553398058252427,\n",
       "  0.810126582278481,\n",
       "  1.2271034996276993),\n",
       " ('Attrition:No',\n",
       "  ('bachelor', 'Research & Development'),\n",
       "  81,\n",
       "  0.1966019417475728,\n",
       "  0.81,\n",
       "  0.9932142857142857),\n",
       " ('Attrition:No',\n",
       "  ('Male', 'DFH:[0, 10)', 'Travel_Rarely'),\n",
       "  102,\n",
       "  0.24757281553398058,\n",
       "  0.8095238095238095,\n",
       "  0.9926303854875284),\n",
       " ('Attrition:No',\n",
       "  ('Age:[30.0, 40.0)', 'Travel_Rarely'),\n",
       "  135,\n",
       "  0.3276699029126214,\n",
       "  0.8083832335329342,\n",
       "  0.9912318220701454),\n",
       " ('Attrition:No',\n",
       "  ('Age:[30.0, 40.0)', 'DFH:[0, 10)'),\n",
       "  126,\n",
       "  0.3058252427184466,\n",
       "  0.8076923076923077,\n",
       "  0.9903846153846154),\n",
       " ('Attrition:No',\n",
       "  ('Age:[30.0, 40.0)', 'DFH:[0, 10)', 'Travel_Rarely'),\n",
       "  88,\n",
       "  0.21359223300970873,\n",
       "  0.8073394495412844,\n",
       "  0.9899519440803844),\n",
       " ('Travel_Rarely',\n",
       "  ('Divorced', 'Attrition:No'),\n",
       "  66,\n",
       "  0.16019417475728157,\n",
       "  0.8048780487804879,\n",
       "  1.090821566110398),\n",
       " ('Attrition:No',\n",
       "  ('Male', 'Travel_Rarely'),\n",
       "  155,\n",
       "  0.3762135922330097,\n",
       "  0.8031088082901554,\n",
       "  0.9847643720700715),\n",
       " ('Attrition:No',\n",
       "  ('Female', 'Age:[30.0, 40.0)'),\n",
       "  69,\n",
       "  0.16747572815533981,\n",
       "  0.8023255813953488,\n",
       "  0.9838039867109635),\n",
       " ('Attrition:No',\n",
       "  ('MonthlyIncome:[5000, 7500)', 'Research & Development', 'Travel_Rarely'),\n",
       "  64,\n",
       "  0.1553398058252427,\n",
       "  0.8,\n",
       "  0.9809523809523809),\n",
       " ('Attrition:No',\n",
       "  ('Age:[30.0, 40.0)', 'Male'),\n",
       "  116,\n",
       "  0.2815533980582524,\n",
       "  0.8,\n",
       "  0.9809523809523809)]"
      ]
     },
     "execution_count": 139,
     "metadata": {},
     "output_type": "execute_result"
    }
   ],
   "source": [
    "rules = apriori(baskets, supp=19, zmin=3, target='r', conf=80, \n",
    "                report='ascl')\n",
    "rules.sort(key=lambda x: x[4],reverse=True)\n",
    "\n",
    "rules"
   ]
  },
  {
   "cell_type": "code",
   "execution_count": 140,
   "metadata": {},
   "outputs": [
    {
     "name": "stdout",
     "output_type": "stream",
     "text": [
      "Number of rule: 101 \n",
      "\n"
     ]
    },
    {
     "data": {
      "text/plain": [
       "[('Attrition:No',\n",
       "  ('YAC:[5, 10)', 'Research & Development', 'Travel_Rarely'),\n",
       "  78,\n",
       "  0.18932038834951456,\n",
       "  0.9285714285714286,\n",
       "  1.1386054421768708),\n",
       " ('Attrition:No',\n",
       "  ('Married', 'Male', 'Travel_Rarely'),\n",
       "  72,\n",
       "  0.17475728155339806,\n",
       "  0.9113924050632911,\n",
       "  1.1175406871609403),\n",
       " ('Attrition:No',\n",
       "  ('WLB:high', 'Male', 'Research & Development'),\n",
       "  92,\n",
       "  0.22330097087378642,\n",
       "  0.9108910891089109,\n",
       "  1.1169259783121168),\n",
       " ('Attrition:No',\n",
       "  ('YAC:[5, 10)', 'WLB:high'),\n",
       "  90,\n",
       "  0.21844660194174756,\n",
       "  0.9090909090909091,\n",
       "  1.1147186147186148),\n",
       " ('Attrition:No',\n",
       "  ('YAC:[5, 10)', 'Research & Development'),\n",
       "  105,\n",
       "  0.25485436893203883,\n",
       "  0.9051724137931034,\n",
       "  1.1099137931034482),\n",
       " ('Attrition:No',\n",
       "  ('YAC:[5, 10)', 'Travel_Rarely'),\n",
       "  114,\n",
       "  0.2766990291262136,\n",
       "  0.9047619047619048,\n",
       "  1.1094104308390023),\n",
       " ('Attrition:No',\n",
       "  ('YAC:[5, 10)', 'Research & Development', 'DFH:[0, 10)'),\n",
       "  73,\n",
       "  0.17718446601941748,\n",
       "  0.9012345679012346,\n",
       "  1.1050852439741328),\n",
       " ('Attrition:No',\n",
       "  ('Married', 'Travel_Rarely'),\n",
       "  119,\n",
       "  0.28883495145631066,\n",
       "  0.8947368421052632,\n",
       "  1.0971177944862156),\n",
       " ('Attrition:No',\n",
       "  ('YAC:[5, 10)', 'DFH:[0, 10)', 'Travel_Rarely'),\n",
       "  74,\n",
       "  0.1796116504854369,\n",
       "  0.891566265060241,\n",
       "  1.0932300631095813),\n",
       " ('Attrition:No',\n",
       "  ('WLB:high', 'Research & Development'),\n",
       "  147,\n",
       "  0.3567961165048544,\n",
       "  0.8909090909090909,\n",
       "  1.0924242424242425)]"
      ]
     },
     "execution_count": 140,
     "metadata": {},
     "output_type": "execute_result"
    }
   ],
   "source": [
    "print('Number of rule:', len(rules), '\\n')\n",
    "rules[0:10]"
   ]
  },
  {
   "cell_type": "code",
   "execution_count": 141,
   "metadata": {},
   "outputs": [],
   "source": [
    "rules.sort(key=lambda x: x[4],reverse=True)\n"
   ]
  },
  {
   "cell_type": "code",
   "execution_count": 142,
   "metadata": {},
   "outputs": [
    {
     "name": "stdout",
     "output_type": "stream",
     "text": [
      "('Attrition:No', ('YAC:[5, 10)', 'Research & Development', 'Travel_Rarely'), 78, 0.18932038834951456, 0.9285714285714286, 1.1386054421768708)\n",
      "('Attrition:No', ('Married', 'Male', 'Travel_Rarely'), 72, 0.17475728155339806, 0.9113924050632911, 1.1175406871609403)\n",
      "('Attrition:No', ('WLB:high', 'Male', 'Research & Development'), 92, 0.22330097087378642, 0.9108910891089109, 1.1169259783121168)\n",
      "('Attrition:No', ('YAC:[5, 10)', 'WLB:high'), 90, 0.21844660194174756, 0.9090909090909091, 1.1147186147186148)\n",
      "('Attrition:No', ('YAC:[5, 10)', 'Research & Development'), 105, 0.25485436893203883, 0.9051724137931034, 1.1099137931034482)\n",
      "('Attrition:No', ('YAC:[5, 10)', 'Travel_Rarely'), 114, 0.2766990291262136, 0.9047619047619048, 1.1094104308390023)\n",
      "('Attrition:No', ('YAC:[5, 10)', 'Research & Development', 'DFH:[0, 10)'), 73, 0.17718446601941748, 0.9012345679012346, 1.1050852439741328)\n",
      "('Attrition:No', ('Married', 'Travel_Rarely'), 119, 0.28883495145631066, 0.8947368421052632, 1.0971177944862156)\n",
      "('Attrition:No', ('YAC:[5, 10)', 'DFH:[0, 10)', 'Travel_Rarely'), 74, 0.1796116504854369, 0.891566265060241, 1.0932300631095813)\n",
      "('Attrition:No', ('WLB:high', 'Research & Development'), 147, 0.3567961165048544, 0.8909090909090909, 1.0924242424242425)\n"
     ]
    }
   ],
   "source": [
    "count = 0\n",
    "for r in rules:\n",
    "    if r[5] > 0.67 and r[5]:\n",
    "        print(r)\n",
    "        count += 1\n",
    "        if count == 10:\n",
    "            break\n",
    "            \n",
    "# i primi formano l'association rule\n",
    "# il terzo elemento è il support dell'itemset\n",
    "# il quarto elemento è il support relativo espresso come frazione\n",
    "# il quinto è la confidence della rule\n",
    "# il sesto è il lift value."
   ]
  },
  {
   "cell_type": "code",
   "execution_count": 143,
   "metadata": {},
   "outputs": [
    {
     "name": "stdout",
     "output_type": "stream",
     "text": [
      "Help on built-in function apriori in module fim:\n",
      "\n",
      "apriori(...)\n",
      "    apriori (tracts, target='s', supp=10, zmin=1, zmax=None, report='a',\n",
      "             eval='x', agg='x', thresh=10, prune=None, algo='b', mode='',\n",
      "             border=None)\n",
      "    Find frequent item sets with the Apriori algorithm.\n",
      "    tracts  transaction database to mine (mandatory)\n",
      "            The database must be an iterable of transactions;\n",
      "            each transaction must be an iterable of items;\n",
      "            each item must be a hashable object.\n",
      "            If the database is a dictionary, the transactions are\n",
      "            the keys, the values their (integer) multiplicities.\n",
      "    target  type of frequent item sets to find     (default: s)\n",
      "            s/a   sets/all   all     frequent item sets\n",
      "            c     closed     closed  frequent item sets\n",
      "            m     maximal    maximal frequent item sets\n",
      "            g     gens       generators\n",
      "            r     rules      association rules\n",
      "    supp    minimum support of an item set         (default: 10)\n",
      "            (positive: percentage, negative: absolute number)\n",
      "    conf    minimum confidence of an assoc. rule   (default: 80%)\n",
      "    zmin    minimum number of items per item set   (default: 1)\n",
      "    zmax    maximum number of items per item set   (default: no limit)\n",
      "    report  values to report with an item set      (default: a)\n",
      "            a     absolute item set support (number of transactions)\n",
      "            s     relative item set support as a fraction\n",
      "            S     relative item set support as a percentage\n",
      "            e     value of item set evaluation measure\n",
      "            E     value of item set evaluation measure as a percentage\n",
      "            (     combine values in a tuple (must be first character)\n",
      "            [     combine values in a list  (must be first character)\n",
      "            #     pattern spectrum as a dictionary  (no patterns)\n",
      "            =     pattern spectrum as a list        (no patterns)\n",
      "            |     pattern spectrum as three columns (no patterns)\n",
      "            for target 'r' (association rules) also available:\n",
      "            b     absolute body set  support (number of transactions)\n",
      "            x     relative body set  support as a fraction\n",
      "            X     relative body set  support as a percentage\n",
      "            h     absolute head item support (number of transactions)\n",
      "            y     relative head item support as a fraction\n",
      "            Y     relative head item support as a percentage\n",
      "            c     rule confidence as a fraction\n",
      "            C     rule confidence as a percentage\n",
      "            l     lift value of a rule (confidence/prior)\n",
      "            L     lift value of a rule as a percentage\n",
      "            Q     support of the empty set (total number of transactions)\n",
      "    eval    measure for item set evaluation        (default: x)\n",
      "            x     none       no measure / zero (default)\n",
      "            b     ldratio    binary logarithm of support quotient       (+)\n",
      "            c     conf       rule confidence                            (+)\n",
      "            d     confdiff   absolute confidence difference to prior    (+)\n",
      "            l     lift       lift value (confidence divided by prior)   (+)\n",
      "            a     liftdiff   absolute difference of lift value to 1     (+)\n",
      "            q     liftquot   difference of lift quotient to 1           (+)\n",
      "            v     cvct       conviction (inverse lift negated head)     (+)\n",
      "            e     cvctdiff   absolute difference of conviction to 1     (+)\n",
      "            r     cvctquot   difference of conviction quotient to 1     (+)\n",
      "            k     cprob      conditional probability ratio              (+)\n",
      "            j     import     importance (binary log. of prob. ratio)    (+)\n",
      "            z     cert       certainty factor (relative conf. change)   (+)\n",
      "            n     chi2       normalized chi^2 measure                   (+)\n",
      "            p     chi2pval   p-value f/ (unnormalized) chi^2 measure    (-)\n",
      "            y     yates      normalized chi^2 with Yates' correction    (+)\n",
      "            t     yatespval  p-value f/ Yates-corrected chi^2 measure   (-)\n",
      "            i     info       information difference to prior            (+)\n",
      "            g     infopval   p-value f/ G statistic/info. difference    (-)\n",
      "            f     fetprob    Fisher's exact test (table probability)    (-)\n",
      "            h     fetchi2    Fisher's exact test (chi^2 measure)        (-)\n",
      "            m     fetinfo    Fisher's exact test (mutual information)   (-)\n",
      "            s     fetsupp    Fisher's exact test (support)              (-)\n",
      "            Measures marked with (+) must meet or exceed the threshold,\n",
      "            measures marked with (-) must not exceed the threshold\n",
      "            in order for the item set to be reported.\n",
      "    agg     evaluation measure aggregation mode    (default: x)\n",
      "            x     none       no aggregation (use first value)\n",
      "            m     min        minimum of individual measure values\n",
      "            n     max        maximum of individual measure values\n",
      "            a     avg        average of individual measure values\n",
      "    thresh  threshold for evaluation measure       (default: 10%)\n",
      "    prune   min. size for evaluation filtering     (default: no pruning)\n",
      "            = 0   backward filtering       (no subset check)\n",
      "            < 0   weak   forward filtering (one subset  must qualify)\n",
      "            > 0   strong forward filtering (all subsets must qualify)\n",
      "    algo    algorithm variant to use               (default: a)\n",
      "            b     basic      standard algorithm (only choice)\n",
      "    mode    operation mode indicators/flags        (default: None)\n",
      "            x     do not use perfect extension pruning\n",
      "            t/T   do not organize transactions as a prefix tree\n",
      "            y     a-posteriori pruning of infrequent item sets\n",
      "            z     invalidate evaluation below expected support\n",
      "            o     use original rule support definition (body & head)\n",
      "    border  support border for filtering item sets (default: None)\n",
      "            Must be a list or tuple of (absolute) minimum support values\n",
      "            per item set size (by which the list/tuple is indexed).\n",
      "    appear  dictionary mapping items to item appearance indicators,\n",
      "            with the key None referring to the default item appearance.\n",
      "            (If None does not occur as a key or no dictionary is given,\n",
      "            the default item appearance indicator is 'both'.)\n",
      "            This parameter is only used if the target type is rules.\n",
      "            * item may not appear anywhere in a rule:\n",
      "              '-', 'n', 'none', 'neither', 'ignore'\n",
      "            * item may appear only in rule body/antecedent:\n",
      "              'i', 'in', 'inp', 'input', 'b', 'body',\n",
      "              'a', 'ante', 'antecedent'\n",
      "            * item may appear only in rule head/consequent:\n",
      "              'o', 'out',      'output', 'h', 'head',\n",
      "              'c', 'cons', 'consequent'\n",
      "            * item may appear anywhere in a rule:\n",
      "              'io', 'i&o', 'inout', 'in&out', 'bh', 'b&h', 'both'\n",
      "    returns if report is not in ['#','=','|']:\n",
      "              if the target is association rules:\n",
      "                a list of rules (i.e. tuples with two or more elements),\n",
      "                each consisting of a head/consequent item, a tuple with\n",
      "                a body/antecedent item set, and the values selected by\n",
      "                the parameter 'report', which may be combined into a\n",
      "                tuple or a list if report[0] is '(' or '[', respectively.\n",
      "              if the target is a type of item sets:\n",
      "                a list of patterns (i.e. tuples with one or more elements),\n",
      "                each consisting of a tuple with a found frequent item set\n",
      "                and the values selected by the parameter 'report', which\n",
      "                may be combined into a tuple or list if report[0] is '('\n",
      "                or '[', respectively\n",
      "            if report in ['#','=','|']:\n",
      "              a pattern spectrum as a dictionary mapping pattern sizes\n",
      "              to the corresponding occurrence support ranges, as a list\n",
      "              of triplets (size, min. support, max. support) or as three\n",
      "              columns for sizes and minimum and maximum support values\n",
      "\n"
     ]
    }
   ],
   "source": [
    "help(apriori)"
   ]
  },
  {
   "cell_type": "code",
   "execution_count": 144,
   "metadata": {},
   "outputs": [],
   "source": [
    "rules = apriori(baskets, supp=2, zmin=2, zmax=3, target='r', conf=60, \n",
    "                report='ascl') "
   ]
  },
  {
   "cell_type": "code",
   "execution_count": 145,
   "metadata": {},
   "outputs": [
    {
     "name": "stdout",
     "output_type": "stream",
     "text": [
      "('Attrition:Yes', ('Sales Representative', 'MonthlyIncome:[5000, 7500)'), 7, 0.01699029126213592, 0.6363636363636364, 3.449760765550239)\n",
      "('Attrition:Yes', ('Sales Representative', 'Single'), 11, 0.02669902912621359, 0.7333333333333333, 3.975438596491228)\n",
      "('Attrition:Yes', ('Sales Representative', 'bachelor'), 6, 0.014563106796116505, 0.6666666666666666, 3.6140350877192984)\n",
      "('Attrition:Yes', ('Sales Representative', 'YAC:[0, 5)'), 12, 0.02912621359223301, 0.631578947368421, 3.4238227146814406)\n",
      "('Attrition:Yes', ('Sales Representative', 'Age:[30.0, 40.0)'), 10, 0.024271844660194174, 0.6666666666666666, 3.6140350877192984)\n",
      "('Attrition:Yes', ('Sales Representative', 'Travel_Rarely'), 11, 0.02669902912621359, 0.8461538461538461, 4.587044534412955)\n",
      "('Attrition:Yes', ('WLB:low', 'Laboratory Technician'), 9, 0.021844660194174758, 0.75, 4.065789473684211)\n",
      "('Attrition:Yes', ('WLB:low', 'MonthlyIncome:[5000, 7500)'), 8, 0.019417475728155338, 0.7272727272727273, 3.9425837320574164)\n",
      "('Attrition:Yes', ('WLB:low', 'Single'), 6, 0.014563106796116505, 0.6666666666666666, 3.6140350877192984)\n",
      "('Attrition:Yes', ('WLB:low', 'YAC:[0, 5)'), 7, 0.01699029126213592, 0.6363636363636364, 3.449760765550239)\n",
      "('Attrition:Yes', ('WLB:low', 'Male'), 11, 0.02669902912621359, 0.6111111111111112, 3.3128654970760234)\n",
      "('Attrition:Yes', ('Technical Degree', 'Single'), 11, 0.02669902912621359, 0.6470588235294118, 3.5077399380804954)\n",
      "('Attrition:Yes', ('Technical Degree', 'YAC:[0, 5)'), 9, 0.021844660194174758, 0.6428571428571429, 3.4849624060150375)\n"
     ]
    }
   ],
   "source": [
    "for r in rules:\n",
    "    if r[0] == 'Attrition:Yes':\n",
    "        print(r)"
   ]
  },
  {
   "cell_type": "code",
   "execution_count": 146,
   "metadata": {},
   "outputs": [],
   "source": [
    "for r in rules:\n",
    "    if r[0] == '':\n",
    "        print(r)"
   ]
  },
  {
   "cell_type": "markdown",
   "metadata": {},
   "source": [
    "\n",
    "sales rep, monthl 5000-7500, ---> yes\n",
    "wlb low, lab tech ---> yes\n",
    "wlb low, monthl incom 5000-7500 --> yes\n",
    "\n"
   ]
  },
  {
   "cell_type": "markdown",
   "metadata": {},
   "source": [
    "PREDICTION WITH RULES"
   ]
  },
  {
   "cell_type": "code",
   "execution_count": 147,
   "metadata": {},
   "outputs": [],
   "source": [
    "df['predicted'] = 'Not_predicted'"
   ]
  },
  {
   "cell_type": "code",
   "execution_count": 148,
   "metadata": {},
   "outputs": [
    {
     "data": {
      "text/html": [
       "<div>\n",
       "<style scoped>\n",
       "    .dataframe tbody tr th:only-of-type {\n",
       "        vertical-align: middle;\n",
       "    }\n",
       "\n",
       "    .dataframe tbody tr th {\n",
       "        vertical-align: top;\n",
       "    }\n",
       "\n",
       "    .dataframe thead th {\n",
       "        text-align: right;\n",
       "    }\n",
       "</style>\n",
       "<table border=\"1\" class=\"dataframe\">\n",
       "  <thead>\n",
       "    <tr style=\"text-align: right;\">\n",
       "      <th></th>\n",
       "      <th>Attrition</th>\n",
       "      <th>BusinessTravel</th>\n",
       "      <th>DistanceFromHome</th>\n",
       "      <th>Education</th>\n",
       "      <th>EducationField</th>\n",
       "      <th>Gender</th>\n",
       "      <th>JobRole</th>\n",
       "      <th>MaritalStatus</th>\n",
       "      <th>Department</th>\n",
       "      <th>MonthlyIncome</th>\n",
       "      <th>Age</th>\n",
       "      <th>WorkLifeBalance</th>\n",
       "      <th>YearsAtCompany</th>\n",
       "      <th>predicted</th>\n",
       "    </tr>\n",
       "  </thead>\n",
       "  <tbody>\n",
       "    <tr>\n",
       "      <td>0</td>\n",
       "      <td>Attrition:No</td>\n",
       "      <td>Travel_Rarely</td>\n",
       "      <td>DFH:[0, 10)</td>\n",
       "      <td>college</td>\n",
       "      <td>Life Sciences</td>\n",
       "      <td>Female</td>\n",
       "      <td>Laboratory Technician</td>\n",
       "      <td>Single</td>\n",
       "      <td>Research &amp; Development</td>\n",
       "      <td>MonthlyIncome:[7500, 10000)</td>\n",
       "      <td>Age:[30.0, 40.0)</td>\n",
       "      <td>WLB:high</td>\n",
       "      <td>YAC:[0, 5)</td>\n",
       "      <td>Not_predicted</td>\n",
       "    </tr>\n",
       "    <tr>\n",
       "      <td>1</td>\n",
       "      <td>Attrition:No</td>\n",
       "      <td>Travel_Frequently</td>\n",
       "      <td>DFH:[0, 10)</td>\n",
       "      <td>master</td>\n",
       "      <td>Life Sciences</td>\n",
       "      <td>Female</td>\n",
       "      <td>Laboratory Technician</td>\n",
       "      <td>Divorced</td>\n",
       "      <td>Research &amp; Development</td>\n",
       "      <td>MonthlyIncome:[0, 2500)</td>\n",
       "      <td>Age:[18.0, 30.0)</td>\n",
       "      <td>WLB:high</td>\n",
       "      <td>YAC:[0, 5)</td>\n",
       "      <td>Not_predicted</td>\n",
       "    </tr>\n",
       "    <tr>\n",
       "      <td>2</td>\n",
       "      <td>Attrition:No</td>\n",
       "      <td>Travel_Rarely</td>\n",
       "      <td>DFH:[10, 20)</td>\n",
       "      <td>college</td>\n",
       "      <td>Life Sciences</td>\n",
       "      <td>Male</td>\n",
       "      <td>Research Scientist</td>\n",
       "      <td>Single</td>\n",
       "      <td>Research &amp; Development</td>\n",
       "      <td>MonthlyIncome:[2500, 5000)</td>\n",
       "      <td>Age:[30.0, 40.0)</td>\n",
       "      <td>WLB:high</td>\n",
       "      <td>YAC:[0, 5)</td>\n",
       "      <td>Not_predicted</td>\n",
       "    </tr>\n",
       "    <tr>\n",
       "      <td>3</td>\n",
       "      <td>Attrition:No</td>\n",
       "      <td>Travel_Rarely</td>\n",
       "      <td>DFH:[0, 10)</td>\n",
       "      <td>bachelor</td>\n",
       "      <td>Medical</td>\n",
       "      <td>Male</td>\n",
       "      <td>Manager</td>\n",
       "      <td>Single</td>\n",
       "      <td>Research &amp; Development</td>\n",
       "      <td>MonthlyIncome:[2500, 5000)</td>\n",
       "      <td>Age:[30.0, 40.0)</td>\n",
       "      <td>WLB:high</td>\n",
       "      <td>YAC:[10, 15)</td>\n",
       "      <td>Not_predicted</td>\n",
       "    </tr>\n",
       "    <tr>\n",
       "      <td>4</td>\n",
       "      <td>Attrition:No</td>\n",
       "      <td>Travel_Rarely</td>\n",
       "      <td>DFH:[0, 10)</td>\n",
       "      <td>bachelor</td>\n",
       "      <td>Technical Degree</td>\n",
       "      <td>Male</td>\n",
       "      <td>Research Director</td>\n",
       "      <td>Married</td>\n",
       "      <td>Research &amp; Development</td>\n",
       "      <td>MonthlyIncome:[7500, 10000)</td>\n",
       "      <td>Age:[30.0, 40.0)</td>\n",
       "      <td>WLB:high</td>\n",
       "      <td>YAC:[10, 15)</td>\n",
       "      <td>Not_predicted</td>\n",
       "    </tr>\n",
       "    <tr>\n",
       "      <td>...</td>\n",
       "      <td>...</td>\n",
       "      <td>...</td>\n",
       "      <td>...</td>\n",
       "      <td>...</td>\n",
       "      <td>...</td>\n",
       "      <td>...</td>\n",
       "      <td>...</td>\n",
       "      <td>...</td>\n",
       "      <td>...</td>\n",
       "      <td>...</td>\n",
       "      <td>...</td>\n",
       "      <td>...</td>\n",
       "      <td>...</td>\n",
       "      <td>...</td>\n",
       "    </tr>\n",
       "    <tr>\n",
       "      <td>407</td>\n",
       "      <td>Attrition:No</td>\n",
       "      <td>Travel_Frequently</td>\n",
       "      <td>DFH:[10, 20)</td>\n",
       "      <td>bachelor</td>\n",
       "      <td>Life Sciences</td>\n",
       "      <td>Male</td>\n",
       "      <td>Manufacturing Director</td>\n",
       "      <td>Married</td>\n",
       "      <td>Research &amp; Development</td>\n",
       "      <td>MonthlyIncome:[0, 2500)</td>\n",
       "      <td>Age:[40.0, 50.0)</td>\n",
       "      <td>WLB:medium</td>\n",
       "      <td>YAC:[5, 10)</td>\n",
       "      <td>Not_predicted</td>\n",
       "    </tr>\n",
       "    <tr>\n",
       "      <td>408</td>\n",
       "      <td>Attrition:Yes</td>\n",
       "      <td>Travel_Rarely</td>\n",
       "      <td>DFH:[0, 10)</td>\n",
       "      <td>below college</td>\n",
       "      <td>Marketing</td>\n",
       "      <td>Female</td>\n",
       "      <td>Sales Representative</td>\n",
       "      <td>Single</td>\n",
       "      <td>Sales</td>\n",
       "      <td>MonthlyIncome:[5000, 7500)</td>\n",
       "      <td>Age:[30.0, 40.0)</td>\n",
       "      <td>WLB:high</td>\n",
       "      <td>YAC:[0, 5)</td>\n",
       "      <td>Not_predicted</td>\n",
       "    </tr>\n",
       "    <tr>\n",
       "      <td>409</td>\n",
       "      <td>Attrition:Yes</td>\n",
       "      <td>Non-Travel</td>\n",
       "      <td>DFH:[0, 10)</td>\n",
       "      <td>master</td>\n",
       "      <td>Life Sciences</td>\n",
       "      <td>Female</td>\n",
       "      <td>Sales Executive</td>\n",
       "      <td>Married</td>\n",
       "      <td>Sales</td>\n",
       "      <td>MonthlyIncome:[5000, 7500)</td>\n",
       "      <td>Age:[30.0, 40.0)</td>\n",
       "      <td>WLB:medium</td>\n",
       "      <td>YAC:[10, 15)</td>\n",
       "      <td>Not_predicted</td>\n",
       "    </tr>\n",
       "    <tr>\n",
       "      <td>410</td>\n",
       "      <td>Attrition:No</td>\n",
       "      <td>Travel_Rarely</td>\n",
       "      <td>DFH:[0, 10)</td>\n",
       "      <td>below college</td>\n",
       "      <td>Marketing</td>\n",
       "      <td>Male</td>\n",
       "      <td>Sales Executive</td>\n",
       "      <td>Married</td>\n",
       "      <td>Sales</td>\n",
       "      <td>MonthlyIncome:[2500, 5000)</td>\n",
       "      <td>Age:[30.0, 40.0)</td>\n",
       "      <td>WLB:very high</td>\n",
       "      <td>YAC:[0, 5)</td>\n",
       "      <td>Not_predicted</td>\n",
       "    </tr>\n",
       "    <tr>\n",
       "      <td>411</td>\n",
       "      <td>Attrition:No</td>\n",
       "      <td>Non-Travel</td>\n",
       "      <td>DFH:[0, 10)</td>\n",
       "      <td>master</td>\n",
       "      <td>Marketing</td>\n",
       "      <td>Male</td>\n",
       "      <td>Sales Executive</td>\n",
       "      <td>Single</td>\n",
       "      <td>Sales</td>\n",
       "      <td>MonthlyIncome:[2500, 5000)</td>\n",
       "      <td>Age:[40.0, 50.0)</td>\n",
       "      <td>WLB:high</td>\n",
       "      <td>YAC:[10, 15)</td>\n",
       "      <td>Not_predicted</td>\n",
       "    </tr>\n",
       "  </tbody>\n",
       "</table>\n",
       "<p>412 rows × 14 columns</p>\n",
       "</div>"
      ],
      "text/plain": [
       "         Attrition     BusinessTravel DistanceFromHome      Education  \\\n",
       "0     Attrition:No      Travel_Rarely      DFH:[0, 10)        college   \n",
       "1     Attrition:No  Travel_Frequently      DFH:[0, 10)         master   \n",
       "2     Attrition:No      Travel_Rarely     DFH:[10, 20)        college   \n",
       "3     Attrition:No      Travel_Rarely      DFH:[0, 10)       bachelor   \n",
       "4     Attrition:No      Travel_Rarely      DFH:[0, 10)       bachelor   \n",
       "..             ...                ...              ...            ...   \n",
       "407   Attrition:No  Travel_Frequently     DFH:[10, 20)       bachelor   \n",
       "408  Attrition:Yes      Travel_Rarely      DFH:[0, 10)  below college   \n",
       "409  Attrition:Yes         Non-Travel      DFH:[0, 10)         master   \n",
       "410   Attrition:No      Travel_Rarely      DFH:[0, 10)  below college   \n",
       "411   Attrition:No         Non-Travel      DFH:[0, 10)         master   \n",
       "\n",
       "       EducationField  Gender                 JobRole MaritalStatus  \\\n",
       "0       Life Sciences  Female   Laboratory Technician        Single   \n",
       "1       Life Sciences  Female   Laboratory Technician      Divorced   \n",
       "2       Life Sciences    Male      Research Scientist        Single   \n",
       "3             Medical    Male                 Manager        Single   \n",
       "4    Technical Degree    Male       Research Director       Married   \n",
       "..                ...     ...                     ...           ...   \n",
       "407     Life Sciences    Male  Manufacturing Director       Married   \n",
       "408         Marketing  Female    Sales Representative        Single   \n",
       "409     Life Sciences  Female         Sales Executive       Married   \n",
       "410         Marketing    Male         Sales Executive       Married   \n",
       "411         Marketing    Male         Sales Executive        Single   \n",
       "\n",
       "                 Department                MonthlyIncome               Age  \\\n",
       "0    Research & Development  MonthlyIncome:[7500, 10000)  Age:[30.0, 40.0)   \n",
       "1    Research & Development      MonthlyIncome:[0, 2500)  Age:[18.0, 30.0)   \n",
       "2    Research & Development   MonthlyIncome:[2500, 5000)  Age:[30.0, 40.0)   \n",
       "3    Research & Development   MonthlyIncome:[2500, 5000)  Age:[30.0, 40.0)   \n",
       "4    Research & Development  MonthlyIncome:[7500, 10000)  Age:[30.0, 40.0)   \n",
       "..                      ...                          ...               ...   \n",
       "407  Research & Development      MonthlyIncome:[0, 2500)  Age:[40.0, 50.0)   \n",
       "408                   Sales   MonthlyIncome:[5000, 7500)  Age:[30.0, 40.0)   \n",
       "409                   Sales   MonthlyIncome:[5000, 7500)  Age:[30.0, 40.0)   \n",
       "410                   Sales   MonthlyIncome:[2500, 5000)  Age:[30.0, 40.0)   \n",
       "411                   Sales   MonthlyIncome:[2500, 5000)  Age:[40.0, 50.0)   \n",
       "\n",
       "    WorkLifeBalance YearsAtCompany      predicted  \n",
       "0          WLB:high     YAC:[0, 5)  Not_predicted  \n",
       "1          WLB:high     YAC:[0, 5)  Not_predicted  \n",
       "2          WLB:high     YAC:[0, 5)  Not_predicted  \n",
       "3          WLB:high   YAC:[10, 15)  Not_predicted  \n",
       "4          WLB:high   YAC:[10, 15)  Not_predicted  \n",
       "..              ...            ...            ...  \n",
       "407      WLB:medium    YAC:[5, 10)  Not_predicted  \n",
       "408        WLB:high     YAC:[0, 5)  Not_predicted  \n",
       "409      WLB:medium   YAC:[10, 15)  Not_predicted  \n",
       "410   WLB:very high     YAC:[0, 5)  Not_predicted  \n",
       "411        WLB:high   YAC:[10, 15)  Not_predicted  \n",
       "\n",
       "[412 rows x 14 columns]"
      ]
     },
     "execution_count": 148,
     "metadata": {},
     "output_type": "execute_result"
    }
   ],
   "source": [
    "df"
   ]
  },
  {
   "cell_type": "code",
   "execution_count": 76,
   "metadata": {},
   "outputs": [
    {
     "name": "stderr",
     "output_type": "stream",
     "text": [
      "/opt/anaconda3/lib/python3.7/site-packages/pandas/core/ops/__init__.py:1115: FutureWarning: elementwise comparison failed; returning scalar instead, but in the future will perform elementwise comparison\n",
      "  result = method(y)\n"
     ]
    }
   ],
   "source": [
    "df['predicted'] = np.where((np.logical_and(df['Department'] == 'Sales' ,df['MonthlyIncome'] == 'MonthlyIncome:[5000, 7500)')),str('Attrition:Yes'),df['predicted'] )"
   ]
  },
  {
   "cell_type": "code",
   "execution_count": 77,
   "metadata": {},
   "outputs": [],
   "source": [
    "#df['predicted'] = np.where((np.logical_and(df['JobRole'] == 'Sales Representative' ,df['YearsAtCompany'] == 'YAC:[0,5)')),str('Attrition:Yes'),df['predicted'] )"
   ]
  },
  {
   "cell_type": "code",
   "execution_count": 78,
   "metadata": {},
   "outputs": [],
   "source": [
    "df['predicted'] = np.where((np.logical_and(df['WorkLifeBalance'] == 'WLB:low' ,df['JobRole'] == 'Laboratory Technician')),str('Attrition:Yes'),df['predicted'] )"
   ]
  },
  {
   "cell_type": "code",
   "execution_count": 79,
   "metadata": {},
   "outputs": [],
   "source": [
    "df['predicted'] = np.where((np.logical_and(df['WorkLifeBalance'] == 'WLB:low' ,df['MonthlyIncome'] == 'MonthlyIncome:[5000, 7500)')),str('Attrition:Yes'),df['predicted'] )"
   ]
  },
  {
   "cell_type": "code",
   "execution_count": 80,
   "metadata": {},
   "outputs": [],
   "source": [
    "df['predicted'] = np.where(df['predicted']=='Not_predicted',str('Attrition:No'),df['predicted'])\n"
   ]
  },
  {
   "cell_type": "code",
   "execution_count": 81,
   "metadata": {},
   "outputs": [
    {
     "data": {
      "text/plain": [
       "Attrition:No    114\n",
       "Name: predicted, dtype: int64"
      ]
     },
     "execution_count": 81,
     "metadata": {},
     "output_type": "execute_result"
    }
   ],
   "source": [
    "df['predicted'].value_counts()"
   ]
  },
  {
   "cell_type": "code",
   "execution_count": 82,
   "metadata": {},
   "outputs": [
    {
     "data": {
      "text/plain": [
       "93"
      ]
     },
     "execution_count": 82,
     "metadata": {},
     "output_type": "execute_result"
    }
   ],
   "source": [
    "df_ = df[df['predicted'] == 'Attrition:No']\n",
    "TN = len(df_[df_['Attrition'] != 'Attrition:Yes'])\n",
    "TN            #TN"
   ]
  },
  {
   "cell_type": "code",
   "execution_count": 83,
   "metadata": {},
   "outputs": [
    {
     "data": {
      "text/plain": [
       "21"
      ]
     },
     "execution_count": 83,
     "metadata": {},
     "output_type": "execute_result"
    }
   ],
   "source": [
    "FN = len(df_[df_['Attrition'] == 'Attrition:Yes'])\n",
    "FN            #FN"
   ]
  },
  {
   "cell_type": "code",
   "execution_count": 84,
   "metadata": {},
   "outputs": [
    {
     "data": {
      "text/plain": [
       "0"
      ]
     },
     "execution_count": 84,
     "metadata": {},
     "output_type": "execute_result"
    }
   ],
   "source": [
    "df2 = df[df['predicted'] == 'Attrition:Yes']\n",
    "TP = len(df2[df2['Attrition'] != 'Attrition:No'])\n",
    "TP            #TP"
   ]
  },
  {
   "cell_type": "code",
   "execution_count": 85,
   "metadata": {},
   "outputs": [
    {
     "data": {
      "text/plain": [
       "0"
      ]
     },
     "execution_count": 85,
     "metadata": {},
     "output_type": "execute_result"
    }
   ],
   "source": [
    "FP =  len(df2[df2['Attrition'] == 'Attrition:No'])\n",
    "FP            #FP"
   ]
  },
  {
   "cell_type": "code",
   "execution_count": 86,
   "metadata": {},
   "outputs": [
    {
     "data": {
      "text/plain": [
       "0.8157894736842105"
      ]
     },
     "execution_count": 86,
     "metadata": {},
     "output_type": "execute_result"
    }
   ],
   "source": [
    "accuracy = (TP + TN) / (TP + TN + FN + FP)\n",
    "accuracy"
   ]
  },
  {
   "cell_type": "code",
   "execution_count": 87,
   "metadata": {},
   "outputs": [
    {
     "ename": "ZeroDivisionError",
     "evalue": "division by zero",
     "output_type": "error",
     "traceback": [
      "\u001b[0;31m---------------------------------------------------------------------------\u001b[0m",
      "\u001b[0;31mZeroDivisionError\u001b[0m                         Traceback (most recent call last)",
      "\u001b[0;32m<ipython-input-87-c448c47fd0da>\u001b[0m in \u001b[0;36m<module>\u001b[0;34m\u001b[0m\n\u001b[0;32m----> 1\u001b[0;31m \u001b[0mprecision\u001b[0m \u001b[0;34m=\u001b[0m \u001b[0mTP\u001b[0m \u001b[0;34m/\u001b[0m \u001b[0;34m(\u001b[0m\u001b[0mTP\u001b[0m \u001b[0;34m+\u001b[0m \u001b[0mFP\u001b[0m\u001b[0;34m)\u001b[0m\u001b[0;34m\u001b[0m\u001b[0;34m\u001b[0m\u001b[0m\n\u001b[0m\u001b[1;32m      2\u001b[0m \u001b[0mprecision\u001b[0m\u001b[0;34m\u001b[0m\u001b[0;34m\u001b[0m\u001b[0m\n",
      "\u001b[0;31mZeroDivisionError\u001b[0m: division by zero"
     ]
    }
   ],
   "source": [
    "precision = TP / (TP + FP)\n",
    "precision"
   ]
  },
  {
   "cell_type": "code",
   "execution_count": 88,
   "metadata": {},
   "outputs": [
    {
     "data": {
      "text/plain": [
       "0.0"
      ]
     },
     "execution_count": 88,
     "metadata": {},
     "output_type": "execute_result"
    }
   ],
   "source": [
    "recall = TP / (TP + FN)\n",
    "recall"
   ]
  },
  {
   "cell_type": "code",
   "execution_count": 89,
   "metadata": {},
   "outputs": [
    {
     "data": {
      "text/plain": [
       "0.0"
      ]
     },
     "execution_count": 89,
     "metadata": {},
     "output_type": "execute_result"
    }
   ],
   "source": [
    "f_score = (2*TP)/(2*TP + FN + FP)    \n",
    "f_score"
   ]
  },
  {
   "cell_type": "code",
   "execution_count": null,
   "metadata": {},
   "outputs": [],
   "source": [
    "df_n = pd.read_csv('/Users/gaetanoantonicchio/Desktop/UNIVERSITY OF PISA - DATA SCIENCE/Data Mining - 1/DATAMINING_PROJECT/df_assmiss.csv')"
   ]
  },
  {
   "cell_type": "code",
   "execution_count": null,
   "metadata": {},
   "outputs": [],
   "source": [
    "df_n.isnull().any()"
   ]
  },
  {
   "cell_type": "code",
   "execution_count": 151,
   "metadata": {},
   "outputs": [],
   "source": [
    "#replacing missing values"
   ]
  },
  {
   "cell_type": "code",
   "execution_count": 149,
   "metadata": {},
   "outputs": [],
   "source": [
    "df_missing = pd.read_csv('/Users/gaetanoantonicchio/Desktop/UNIVERSITY OF PISA - DATA SCIENCE/Data Mining - 1/DATAMINING_PROJECT/df_assmiss.csv')"
   ]
  },
  {
   "cell_type": "code",
   "execution_count": 150,
   "metadata": {},
   "outputs": [
    {
     "data": {
      "text/html": [
       "<div>\n",
       "<style scoped>\n",
       "    .dataframe tbody tr th:only-of-type {\n",
       "        vertical-align: middle;\n",
       "    }\n",
       "\n",
       "    .dataframe tbody tr th {\n",
       "        vertical-align: top;\n",
       "    }\n",
       "\n",
       "    .dataframe thead th {\n",
       "        text-align: right;\n",
       "    }\n",
       "</style>\n",
       "<table border=\"1\" class=\"dataframe\">\n",
       "  <thead>\n",
       "    <tr style=\"text-align: right;\">\n",
       "      <th></th>\n",
       "      <th>Age</th>\n",
       "      <th>Attrition</th>\n",
       "      <th>BusinessTravel</th>\n",
       "      <th>DailyRate</th>\n",
       "      <th>Department</th>\n",
       "      <th>DistanceFromHome</th>\n",
       "      <th>Education</th>\n",
       "      <th>EducationField</th>\n",
       "      <th>EnvironmentSatisfaction</th>\n",
       "      <th>Gender</th>\n",
       "      <th>...</th>\n",
       "      <th>RelationshipSatisfaction</th>\n",
       "      <th>StandardHours</th>\n",
       "      <th>StockOptionLevel</th>\n",
       "      <th>TotalWorkingYears</th>\n",
       "      <th>TrainingTimesLastYear</th>\n",
       "      <th>WorkLifeBalance</th>\n",
       "      <th>YearsAtCompany</th>\n",
       "      <th>YearsInCurrentRole</th>\n",
       "      <th>YearsSinceLastPromotion</th>\n",
       "      <th>YearsWithCurrManager</th>\n",
       "    </tr>\n",
       "  </thead>\n",
       "  <tbody>\n",
       "    <tr>\n",
       "      <td>0</td>\n",
       "      <td>NaN</td>\n",
       "      <td>No</td>\n",
       "      <td>Travel_Rarely</td>\n",
       "      <td>1380</td>\n",
       "      <td>Research &amp; Development</td>\n",
       "      <td>9</td>\n",
       "      <td>2</td>\n",
       "      <td>Life Sciences</td>\n",
       "      <td>3</td>\n",
       "      <td>Female</td>\n",
       "      <td>...</td>\n",
       "      <td>3</td>\n",
       "      <td>80.0</td>\n",
       "      <td>0</td>\n",
       "      <td>2</td>\n",
       "      <td>NaN</td>\n",
       "      <td>3</td>\n",
       "      <td>2.0</td>\n",
       "      <td>2</td>\n",
       "      <td>2</td>\n",
       "      <td>1</td>\n",
       "    </tr>\n",
       "    <tr>\n",
       "      <td>1</td>\n",
       "      <td>20.0</td>\n",
       "      <td>No</td>\n",
       "      <td>Travel_Frequently</td>\n",
       "      <td>1240</td>\n",
       "      <td>Research &amp; Development</td>\n",
       "      <td>2</td>\n",
       "      <td>4</td>\n",
       "      <td>Life Sciences</td>\n",
       "      <td>4</td>\n",
       "      <td>Female</td>\n",
       "      <td>...</td>\n",
       "      <td>4</td>\n",
       "      <td>80.0</td>\n",
       "      <td>1</td>\n",
       "      <td>1</td>\n",
       "      <td>3.0</td>\n",
       "      <td>3</td>\n",
       "      <td>1.0</td>\n",
       "      <td>0</td>\n",
       "      <td>0</td>\n",
       "      <td>0</td>\n",
       "    </tr>\n",
       "    <tr>\n",
       "      <td>2</td>\n",
       "      <td>NaN</td>\n",
       "      <td>No</td>\n",
       "      <td>Travel_Rarely</td>\n",
       "      <td>916</td>\n",
       "      <td>Research &amp; Development</td>\n",
       "      <td>17</td>\n",
       "      <td>2</td>\n",
       "      <td>Life Sciences</td>\n",
       "      <td>4</td>\n",
       "      <td>Male</td>\n",
       "      <td>...</td>\n",
       "      <td>3</td>\n",
       "      <td>80.0</td>\n",
       "      <td>0</td>\n",
       "      <td>10</td>\n",
       "      <td>2.0</td>\n",
       "      <td>3</td>\n",
       "      <td>3.0</td>\n",
       "      <td>2</td>\n",
       "      <td>0</td>\n",
       "      <td>2</td>\n",
       "    </tr>\n",
       "    <tr>\n",
       "      <td>3</td>\n",
       "      <td>39.0</td>\n",
       "      <td>No</td>\n",
       "      <td>NaN</td>\n",
       "      <td>1354</td>\n",
       "      <td>Research &amp; Development</td>\n",
       "      <td>5</td>\n",
       "      <td>3</td>\n",
       "      <td>Medical</td>\n",
       "      <td>3</td>\n",
       "      <td>Male</td>\n",
       "      <td>...</td>\n",
       "      <td>4</td>\n",
       "      <td>80.0</td>\n",
       "      <td>0</td>\n",
       "      <td>14</td>\n",
       "      <td>3.0</td>\n",
       "      <td>3</td>\n",
       "      <td>10.0</td>\n",
       "      <td>10</td>\n",
       "      <td>5</td>\n",
       "      <td>8</td>\n",
       "    </tr>\n",
       "    <tr>\n",
       "      <td>4</td>\n",
       "      <td>35.0</td>\n",
       "      <td>No</td>\n",
       "      <td>Travel_Rarely</td>\n",
       "      <td>1333</td>\n",
       "      <td>Research &amp; Development</td>\n",
       "      <td>1</td>\n",
       "      <td>3</td>\n",
       "      <td>Technical Degree</td>\n",
       "      <td>4</td>\n",
       "      <td>Male</td>\n",
       "      <td>...</td>\n",
       "      <td>2</td>\n",
       "      <td>80.0</td>\n",
       "      <td>1</td>\n",
       "      <td>15</td>\n",
       "      <td>3.0</td>\n",
       "      <td>3</td>\n",
       "      <td>13.0</td>\n",
       "      <td>12</td>\n",
       "      <td>5</td>\n",
       "      <td>11</td>\n",
       "    </tr>\n",
       "  </tbody>\n",
       "</table>\n",
       "<p>5 rows × 33 columns</p>\n",
       "</div>"
      ],
      "text/plain": [
       "    Age Attrition     BusinessTravel  DailyRate              Department  \\\n",
       "0   NaN        No      Travel_Rarely       1380  Research & Development   \n",
       "1  20.0        No  Travel_Frequently       1240  Research & Development   \n",
       "2   NaN        No      Travel_Rarely        916  Research & Development   \n",
       "3  39.0        No                NaN       1354  Research & Development   \n",
       "4  35.0        No      Travel_Rarely       1333  Research & Development   \n",
       "\n",
       "   DistanceFromHome  Education    EducationField  EnvironmentSatisfaction  \\\n",
       "0                 9          2     Life Sciences                        3   \n",
       "1                 2          4     Life Sciences                        4   \n",
       "2                17          2     Life Sciences                        4   \n",
       "3                 5          3           Medical                        3   \n",
       "4                 1          3  Technical Degree                        4   \n",
       "\n",
       "   Gender  ...  RelationshipSatisfaction  StandardHours  StockOptionLevel  \\\n",
       "0  Female  ...                         3           80.0                 0   \n",
       "1  Female  ...                         4           80.0                 1   \n",
       "2    Male  ...                         3           80.0                 0   \n",
       "3    Male  ...                         4           80.0                 0   \n",
       "4    Male  ...                         2           80.0                 1   \n",
       "\n",
       "  TotalWorkingYears  TrainingTimesLastYear WorkLifeBalance  YearsAtCompany  \\\n",
       "0                 2                    NaN               3             2.0   \n",
       "1                 1                    3.0               3             1.0   \n",
       "2                10                    2.0               3             3.0   \n",
       "3                14                    3.0               3            10.0   \n",
       "4                15                    3.0               3            13.0   \n",
       "\n",
       "   YearsInCurrentRole  YearsSinceLastPromotion YearsWithCurrManager  \n",
       "0                   2                        2                    1  \n",
       "1                   0                        0                    0  \n",
       "2                   2                        0                    2  \n",
       "3                  10                        5                    8  \n",
       "4                  12                        5                   11  \n",
       "\n",
       "[5 rows x 33 columns]"
      ]
     },
     "execution_count": 150,
     "metadata": {},
     "output_type": "execute_result"
    }
   ],
   "source": [
    "df_missing.head()"
   ]
  },
  {
   "cell_type": "code",
   "execution_count": 151,
   "metadata": {},
   "outputs": [
    {
     "data": {
      "text/plain": [
       "Age                          True\n",
       "Attrition                   False\n",
       "BusinessTravel               True\n",
       "DailyRate                   False\n",
       "Department                  False\n",
       "DistanceFromHome            False\n",
       "Education                   False\n",
       "EducationField              False\n",
       "EnvironmentSatisfaction     False\n",
       "Gender                       True\n",
       "HourlyRate                  False\n",
       "JobInvolvement              False\n",
       "JobLevel                    False\n",
       "JobRole                     False\n",
       "JobSatisfaction             False\n",
       "MaritalStatus               False\n",
       "MonthlyIncome                True\n",
       "MonthlyRate                 False\n",
       "NumCompaniesWorked          False\n",
       "Over18                       True\n",
       "OverTime                    False\n",
       "PercentSalaryHike           False\n",
       "PerformanceRating            True\n",
       "RelationshipSatisfaction    False\n",
       "StandardHours                True\n",
       "StockOptionLevel            False\n",
       "TotalWorkingYears           False\n",
       "TrainingTimesLastYear        True\n",
       "WorkLifeBalance             False\n",
       "YearsAtCompany               True\n",
       "YearsInCurrentRole          False\n",
       "YearsSinceLastPromotion     False\n",
       "YearsWithCurrManager        False\n",
       "dtype: bool"
      ]
     },
     "execution_count": 151,
     "metadata": {},
     "output_type": "execute_result"
    }
   ],
   "source": [
    "df_missing.isnull().any()"
   ]
  },
  {
   "cell_type": "code",
   "execution_count": 152,
   "metadata": {},
   "outputs": [],
   "source": [
    "#replace Nan values of Gender"
   ]
  },
  {
   "cell_type": "code",
   "execution_count": 153,
   "metadata": {},
   "outputs": [
    {
     "name": "stdout",
     "output_type": "stream",
     "text": [
      "Help on built-in function apriori in module fim:\n",
      "\n",
      "apriori(...)\n",
      "    apriori (tracts, target='s', supp=10, zmin=1, zmax=None, report='a',\n",
      "             eval='x', agg='x', thresh=10, prune=None, algo='b', mode='',\n",
      "             border=None)\n",
      "    Find frequent item sets with the Apriori algorithm.\n",
      "    tracts  transaction database to mine (mandatory)\n",
      "            The database must be an iterable of transactions;\n",
      "            each transaction must be an iterable of items;\n",
      "            each item must be a hashable object.\n",
      "            If the database is a dictionary, the transactions are\n",
      "            the keys, the values their (integer) multiplicities.\n",
      "    target  type of frequent item sets to find     (default: s)\n",
      "            s/a   sets/all   all     frequent item sets\n",
      "            c     closed     closed  frequent item sets\n",
      "            m     maximal    maximal frequent item sets\n",
      "            g     gens       generators\n",
      "            r     rules      association rules\n",
      "    supp    minimum support of an item set         (default: 10)\n",
      "            (positive: percentage, negative: absolute number)\n",
      "    conf    minimum confidence of an assoc. rule   (default: 80%)\n",
      "    zmin    minimum number of items per item set   (default: 1)\n",
      "    zmax    maximum number of items per item set   (default: no limit)\n",
      "    report  values to report with an item set      (default: a)\n",
      "            a     absolute item set support (number of transactions)\n",
      "            s     relative item set support as a fraction\n",
      "            S     relative item set support as a percentage\n",
      "            e     value of item set evaluation measure\n",
      "            E     value of item set evaluation measure as a percentage\n",
      "            (     combine values in a tuple (must be first character)\n",
      "            [     combine values in a list  (must be first character)\n",
      "            #     pattern spectrum as a dictionary  (no patterns)\n",
      "            =     pattern spectrum as a list        (no patterns)\n",
      "            |     pattern spectrum as three columns (no patterns)\n",
      "            for target 'r' (association rules) also available:\n",
      "            b     absolute body set  support (number of transactions)\n",
      "            x     relative body set  support as a fraction\n",
      "            X     relative body set  support as a percentage\n",
      "            h     absolute head item support (number of transactions)\n",
      "            y     relative head item support as a fraction\n",
      "            Y     relative head item support as a percentage\n",
      "            c     rule confidence as a fraction\n",
      "            C     rule confidence as a percentage\n",
      "            l     lift value of a rule (confidence/prior)\n",
      "            L     lift value of a rule as a percentage\n",
      "            Q     support of the empty set (total number of transactions)\n",
      "    eval    measure for item set evaluation        (default: x)\n",
      "            x     none       no measure / zero (default)\n",
      "            b     ldratio    binary logarithm of support quotient       (+)\n",
      "            c     conf       rule confidence                            (+)\n",
      "            d     confdiff   absolute confidence difference to prior    (+)\n",
      "            l     lift       lift value (confidence divided by prior)   (+)\n",
      "            a     liftdiff   absolute difference of lift value to 1     (+)\n",
      "            q     liftquot   difference of lift quotient to 1           (+)\n",
      "            v     cvct       conviction (inverse lift negated head)     (+)\n",
      "            e     cvctdiff   absolute difference of conviction to 1     (+)\n",
      "            r     cvctquot   difference of conviction quotient to 1     (+)\n",
      "            k     cprob      conditional probability ratio              (+)\n",
      "            j     import     importance (binary log. of prob. ratio)    (+)\n",
      "            z     cert       certainty factor (relative conf. change)   (+)\n",
      "            n     chi2       normalized chi^2 measure                   (+)\n",
      "            p     chi2pval   p-value f/ (unnormalized) chi^2 measure    (-)\n",
      "            y     yates      normalized chi^2 with Yates' correction    (+)\n",
      "            t     yatespval  p-value f/ Yates-corrected chi^2 measure   (-)\n",
      "            i     info       information difference to prior            (+)\n",
      "            g     infopval   p-value f/ G statistic/info. difference    (-)\n",
      "            f     fetprob    Fisher's exact test (table probability)    (-)\n",
      "            h     fetchi2    Fisher's exact test (chi^2 measure)        (-)\n",
      "            m     fetinfo    Fisher's exact test (mutual information)   (-)\n",
      "            s     fetsupp    Fisher's exact test (support)              (-)\n",
      "            Measures marked with (+) must meet or exceed the threshold,\n",
      "            measures marked with (-) must not exceed the threshold\n",
      "            in order for the item set to be reported.\n",
      "    agg     evaluation measure aggregation mode    (default: x)\n",
      "            x     none       no aggregation (use first value)\n",
      "            m     min        minimum of individual measure values\n",
      "            n     max        maximum of individual measure values\n",
      "            a     avg        average of individual measure values\n",
      "    thresh  threshold for evaluation measure       (default: 10%)\n",
      "    prune   min. size for evaluation filtering     (default: no pruning)\n",
      "            = 0   backward filtering       (no subset check)\n",
      "            < 0   weak   forward filtering (one subset  must qualify)\n",
      "            > 0   strong forward filtering (all subsets must qualify)\n",
      "    algo    algorithm variant to use               (default: a)\n",
      "            b     basic      standard algorithm (only choice)\n",
      "    mode    operation mode indicators/flags        (default: None)\n",
      "            x     do not use perfect extension pruning\n",
      "            t/T   do not organize transactions as a prefix tree\n",
      "            y     a-posteriori pruning of infrequent item sets\n",
      "            z     invalidate evaluation below expected support\n",
      "            o     use original rule support definition (body & head)\n",
      "    border  support border for filtering item sets (default: None)\n",
      "            Must be a list or tuple of (absolute) minimum support values\n",
      "            per item set size (by which the list/tuple is indexed).\n",
      "    appear  dictionary mapping items to item appearance indicators,\n",
      "            with the key None referring to the default item appearance.\n",
      "            (If None does not occur as a key or no dictionary is given,\n",
      "            the default item appearance indicator is 'both'.)\n",
      "            This parameter is only used if the target type is rules.\n",
      "            * item may not appear anywhere in a rule:\n",
      "              '-', 'n', 'none', 'neither', 'ignore'\n",
      "            * item may appear only in rule body/antecedent:\n",
      "              'i', 'in', 'inp', 'input', 'b', 'body',\n",
      "              'a', 'ante', 'antecedent'\n",
      "            * item may appear only in rule head/consequent:\n",
      "              'o', 'out',      'output', 'h', 'head',\n",
      "              'c', 'cons', 'consequent'\n",
      "            * item may appear anywhere in a rule:\n",
      "              'io', 'i&o', 'inout', 'in&out', 'bh', 'b&h', 'both'\n",
      "    returns if report is not in ['#','=','|']:\n",
      "              if the target is association rules:\n",
      "                a list of rules (i.e. tuples with two or more elements),\n",
      "                each consisting of a head/consequent item, a tuple with\n",
      "                a body/antecedent item set, and the values selected by\n",
      "                the parameter 'report', which may be combined into a\n",
      "                tuple or a list if report[0] is '(' or '[', respectively.\n",
      "              if the target is a type of item sets:\n",
      "                a list of patterns (i.e. tuples with one or more elements),\n",
      "                each consisting of a tuple with a found frequent item set\n",
      "                and the values selected by the parameter 'report', which\n",
      "                may be combined into a tuple or list if report[0] is '('\n",
      "                or '[', respectively\n",
      "            if report in ['#','=','|']:\n",
      "              a pattern spectrum as a dictionary mapping pattern sizes\n",
      "              to the corresponding occurrence support ranges, as a list\n",
      "              of triplets (size, min. support, max. support) or as three\n",
      "              columns for sizes and minimum and maximum support values\n",
      "\n"
     ]
    }
   ],
   "source": [
    "help(apriori)"
   ]
  },
  {
   "cell_type": "code",
   "execution_count": 182,
   "metadata": {},
   "outputs": [
    {
     "name": "stdout",
     "output_type": "stream",
     "text": [
      "('Female', ('below college', 'YAC:[5, 10)'), 2.669902912621359, 84.61538461538461, 2.2935222672064777)\n",
      "('Female', ('Human Resources', 'Travel_Frequently'), 1.2135922330097086, 83.33333333333334, 2.258771929824561)\n",
      "('Female', ('MonthlyIncome:[12500, 17500)', 'Age:[50.0, 60.0)'), 1.2135922330097086, 83.33333333333334, 2.258771929824561)\n",
      "('Female', ('below college', 'DFH:[20, 30)'), 1.2135922330097086, 83.33333333333334, 2.258771929824561)\n",
      "('Female', ('MonthlyIncome:[12500, 17500)', 'Research Scientist'), 0.9708737864077669, 80.0, 2.168421052631579)\n",
      "('Female', ('MonthlyIncome:[12500, 17500)', 'bachelor'), 0.9708737864077669, 80.0, 2.168421052631579)\n",
      "('Female', ('MonthlyIncome:[7500, 10000)', 'below college'), 0.9708737864077669, 80.0, 2.168421052631579)\n",
      "('Female', ('Technical Degree', 'Laboratory Technician'), 0.9708737864077669, 80.0, 2.168421052631579)\n",
      "('Female', ('DFH:[20, 30)', 'Research Scientist'), 1.9417475728155338, 80.0, 2.168421052631579)\n",
      "('Female', ('below college', 'WLB:medium'), 2.669902912621359, 73.33333333333333, 1.987719298245614)\n",
      "('Female', ('MonthlyIncome:[12500, 17500)', 'Travel_Rarely'), 2.4271844660194173, 71.42857142857143, 1.9360902255639099)\n",
      "('Female', ('WLB:low', 'Sales'), 1.2135922330097086, 71.42857142857143, 1.9360902255639099)\n",
      "('Female', ('below college', 'Sales Executive'), 1.2135922330097086, 71.42857142857143, 1.9360902255639099)\n",
      "('Female', ('MonthlyIncome:[0, 2500)', 'Travel_Frequently'), 1.2135922330097086, 71.42857142857143, 1.9360902255639099)\n",
      "('Female', ('MonthlyIncome:[12500, 17500)', 'Married'), 2.1844660194174756, 69.23076923076923, 1.8765182186234817)\n",
      "('Female', ('Human Resources', 'Medical'), 0.9708737864077669, 66.66666666666666, 1.8070175438596492)\n",
      "('Female', ('MonthlyIncome:[12500, 17500)', 'Attrition:No'), 2.912621359223301, 66.66666666666666, 1.8070175438596492)\n",
      "('Female', ('Manufacturing Director', 'WLB:very high'), 0.9708737864077669, 66.66666666666666, 1.8070175438596492)\n",
      "('Female', ('below college', 'Travel_Frequently'), 0.9708737864077669, 66.66666666666666, 1.8070175438596492)\n",
      "('Female', ('DFH:[20, 30)', 'Laboratory Technician'), 1.4563106796116505, 66.66666666666666, 1.8070175438596492)\n",
      "('Female', ('below college', 'Single'), 3.1553398058252426, 65.0, 1.7618421052631579)\n",
      "('Female', ('Manufacturing Director', 'Single'), 1.6990291262135921, 63.63636363636363, 1.7248803827751196)\n",
      "('Female', ('MonthlyIncome:[10000, 12500)', 'Age:[30.0, 40.0)'), 1.2135922330097086, 62.5, 1.694078947368421)\n",
      "('Female', ('Sales Representative', 'Marketing'), 1.2135922330097086, 62.5, 1.694078947368421)\n",
      "('Female', ('WLB:low', 'Medical'), 1.2135922330097086, 62.5, 1.694078947368421)\n",
      "('Female', ('below college', 'Age:[40.0, 50.0)'), 1.2135922330097086, 62.5, 1.694078947368421)\n",
      "('Female', ('below college', 'Laboratory Technician'), 1.9417475728155338, 61.53846153846154, 1.6680161943319838)\n",
      "('Female', ('Research Scientist', 'bachelor'), 4.611650485436893, 61.29032258064516, 1.6612903225806452)\n",
      "('Female', ('YAC:[15, 30)', 'Sales'), 0.7281553398058253, 60.0, 1.6263157894736842)\n",
      "('Female', ('Research Director', 'bachelor'), 0.7281553398058253, 60.0, 1.6263157894736842)\n",
      "('Female', ('Human Resources', 'Single'), 0.7281553398058253, 60.0, 1.6263157894736842)\n",
      "('Female', ('MonthlyIncome:[10000, 12500)', 'Sales'), 0.7281553398058253, 60.0, 1.6263157894736842)\n",
      "('Female', ('MonthlyIncome:[12500, 17500)', 'YAC:[10, 15)'), 0.7281553398058253, 60.0, 1.6263157894736842)\n",
      "('Female', ('MonthlyIncome:[12500, 17500)', 'master'), 0.7281553398058253, 60.0, 1.6263157894736842)\n",
      "('Female', ('MonthlyIncome:[12500, 17500)', 'YAC:[5, 10)'), 1.4563106796116505, 60.0, 1.6263157894736842)\n",
      "('Female', ('MonthlyIncome:[12500, 17500)', 'Research & Development'), 2.1844660194174756, 60.0, 1.6263157894736842)\n",
      "('Female', ('MonthlyIncome:[12500, 17500)',), 2.912621359223301, 60.0, 1.6263157894736842)\n",
      "('Female', ('Age:[50.0, 60.0)', 'Research Scientist'), 0.7281553398058253, 60.0, 1.6263157894736842)\n",
      "('Female', ('WLB:low', 'Sales Executive'), 0.7281553398058253, 60.0, 1.6263157894736842)\n",
      "('Female', ('WLB:low', 'Married'), 2.1844660194174756, 60.0, 1.6263157894736842)\n",
      "('Female', ('Manufacturing Director', 'master'), 1.4563106796116505, 60.0, 1.6263157894736842)\n",
      "('Female', ('Technical Degree', 'below college'), 0.7281553398058253, 60.0, 1.6263157894736842)\n",
      "('Female', ('Technical Degree', 'WLB:medium'), 0.7281553398058253, 60.0, 1.6263157894736842)\n",
      "('Female', ('Technical Degree', 'Age:[30.0, 40.0)'), 2.912621359223301, 60.0, 1.6263157894736842)\n",
      "('Female', ('below college', 'Marketing'), 0.7281553398058253, 60.0, 1.6263157894736842)\n",
      "('Female', ('Marketing', 'Travel_Frequently'), 1.4563106796116505, 60.0, 1.6263157894736842)\n"
     ]
    }
   ],
   "source": [
    "itemsets = apriori(baskets, supp=1, conf= 60,zmax=3, target='r', report='SCl')\n",
    "itemsets.sort(key=lambda x: x[4],reverse=True)\n",
    "\n",
    "for r in itemsets:\n",
    "    if r[0] == 'Female':\n",
    "        print(r)\n"
   ]
  },
  {
   "cell_type": "code",
   "execution_count": 164,
   "metadata": {},
   "outputs": [],
   "source": [
    "df_missing['Gender_r'] = df_missing['Gender']"
   ]
  },
  {
   "cell_type": "code",
   "execution_count": 256,
   "metadata": {},
   "outputs": [
    {
     "name": "stderr",
     "output_type": "stream",
     "text": [
      "/opt/anaconda3/lib/python3.7/site-packages/ipykernel_launcher.py:1: SettingWithCopyWarning: \n",
      "A value is trying to be set on a copy of a slice from a DataFrame.\n",
      "Try using .loc[row_indexer,col_indexer] = value instead\n",
      "\n",
      "See the caveats in the documentation: http://pandas.pydata.org/pandas-docs/stable/user_guide/indexing.html#returning-a-view-versus-a-copy\n",
      "  \"\"\"Entry point for launching an IPython kernel.\n"
     ]
    }
   ],
   "source": []
  },
  {
   "cell_type": "markdown",
   "metadata": {},
   "source": [
    "female --> below college, wlb: medium\n",
    "female --> below college, maritalstatus: single\n",
    "female --> human resources, travel_frequently\n",
    "\n",
    "('Male', ('Divorced', 'Sales'), 3.8834951456310676, 76.19047619047619, 1.2073260073260073)\n",
    "('Male', ('Attrition:Yes', 'Divorced'), 2.4271844660194173, 90.9090909090909, 1.4405594405594406)\n",
    "('Male', ('Non-Travel', 'master'), 2.4271844660194173, 90.9090909090909, 1.4405594405594406)\n",
    "\n"
   ]
  },
  {
   "cell_type": "code",
   "execution_count": null,
   "metadata": {},
   "outputs": [],
   "source": [
    "#female"
   ]
  },
  {
   "cell_type": "code",
   "execution_count": 165,
   "metadata": {},
   "outputs": [],
   "source": [
    "df_missing['Gender_r'] = np.where((np.logical_and(df_missing['Education'] == 1 ,df_missing['WorkLifeBalance'] == 2)),str('Female'), df_missing['Gender_r'])"
   ]
  },
  {
   "cell_type": "code",
   "execution_count": 166,
   "metadata": {},
   "outputs": [],
   "source": [
    "df_missing['Gender_r'] = np.where((np.logical_and(df_missing['Education'] == 1 ,df_missing['MaritalStatus'] == 'Single')),str('Female'), df_missing['Gender_r'])"
   ]
  },
  {
   "cell_type": "code",
   "execution_count": 167,
   "metadata": {},
   "outputs": [],
   "source": [
    "df_missing['Gender_r'] = np.where((np.logical_and(df_missing['Department'] == 'Human Resources' ,df_missing['BusinessTravel'] == 'Travel_Frequently')),str('Female'), df_missing['Gender_r'])"
   ]
  },
  {
   "cell_type": "code",
   "execution_count": null,
   "metadata": {},
   "outputs": [],
   "source": [
    "#Male "
   ]
  },
  {
   "cell_type": "code",
   "execution_count": 171,
   "metadata": {},
   "outputs": [],
   "source": [
    "df_missing['Gender_r'] = np.where((np.logical_and(df_missing['JobRole'] == 'Research Director' ,df_missing['MaritalStatus'] == 'Single')),str('Male'), df_missing['Gender_r'])"
   ]
  },
  {
   "cell_type": "code",
   "execution_count": 172,
   "metadata": {},
   "outputs": [],
   "source": [
    "df_missing['Gender_r'] = np.where((np.logical_and(df_missing['MaritalStatus'] == 'Divorced' ,df_missing['Attrition'] == 'Yes')),str('Male'), df_missing['Gender_r'])"
   ]
  },
  {
   "cell_type": "code",
   "execution_count": 176,
   "metadata": {},
   "outputs": [],
   "source": [
    "df_missing['Gender_r'] = np.where((np.logical_and(df_missing['BusinessTravel'] == 'Non_Travel' ,df_missing['Education'] == 4)),str('Male'), df_missing['Gender_r'])"
   ]
  },
  {
   "cell_type": "code",
   "execution_count": 177,
   "metadata": {},
   "outputs": [
    {
     "data": {
      "text/plain": [
       "24"
      ]
     },
     "execution_count": 177,
     "metadata": {},
     "output_type": "execute_result"
    }
   ],
   "source": [
    "df_missing['Gender'].isnull().sum()"
   ]
  },
  {
   "cell_type": "code",
   "execution_count": 178,
   "metadata": {},
   "outputs": [
    {
     "data": {
      "text/plain": [
       "21"
      ]
     },
     "execution_count": 178,
     "metadata": {},
     "output_type": "execute_result"
    }
   ],
   "source": [
    "df_missing['Gender_r'].isnull().sum()"
   ]
  },
  {
   "cell_type": "code",
   "execution_count": 179,
   "metadata": {},
   "outputs": [],
   "source": [
    "df_missing['Gender_r'] = np.where((np.logical_and(df_missing['Education'] == 1 ,df_missing['WorkLifeBalance'] == 2)),str('Female'), df_missing['Gender_r'])"
   ]
  },
  {
   "cell_type": "code",
   "execution_count": 180,
   "metadata": {},
   "outputs": [
    {
     "data": {
      "text/plain": [
       "21"
      ]
     },
     "execution_count": 180,
     "metadata": {},
     "output_type": "execute_result"
    }
   ],
   "source": [
    "df_missing['Gender_r'].isnull().sum()"
   ]
  }
 ],
 "metadata": {
  "kernelspec": {
   "display_name": "Python 3",
   "language": "python",
   "name": "python3"
  },
  "language_info": {
   "codemirror_mode": {
    "name": "ipython",
    "version": 3
   },
   "file_extension": ".py",
   "mimetype": "text/x-python",
   "name": "python",
   "nbconvert_exporter": "python",
   "pygments_lexer": "ipython3",
   "version": "3.8.5"
  }
 },
 "nbformat": 4,
 "nbformat_minor": 2
}
